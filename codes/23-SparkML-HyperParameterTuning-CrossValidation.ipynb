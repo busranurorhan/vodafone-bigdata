{
 "cells": [
  {
   "cell_type": "code",
   "execution_count": 3,
   "metadata": {},
   "outputs": [
    {
     "name": "stdout",
     "output_type": "stream",
     "text": [
      "Best Model hesaplandı\n",
      "Best NumTrees :  2\n",
      "Best MaxDepth :  4\n",
      "Best Impurity :  gini\n",
      "Accuracy of the best model  0.9310344827586207\n"
     ]
    }
   ],
   "source": [
    "from pyspark.sql import SparkSession\n",
    "from pyspark.ml.feature import StringIndexer, VectorAssembler\n",
    "from pyspark.ml.classification import RandomForestClassifier\n",
    "from pyspark.ml.evaluation import MulticlassClassificationEvaluator\n",
    "from pyspark.ml.tuning import CrossValidator,ParamGridBuilder\n",
    "spark = SparkSession.Builder().appName('Spark DataFrame Introduction').getOrCreate()\n",
    "irisDF = spark.read.option('inferSchema','true')\\\n",
    "                        .option('header','true')\\\n",
    "                        .option('delimiter',',').csv('datasets/iris-dataset.txt')\n",
    "indexer = StringIndexer(inputCol='class',outputCol='label')\n",
    "indexerModel = indexer.fit(irisDF)                   \n",
    "irisDF = indexerModel.transform(irisDF)\n",
    "vec =VectorAssembler(inputCols=['sepal-length', 'sepal-width', 'petal-length', 'petal-width'],outputCol='features')\n",
    "irisDF = vec.transform(irisDF)\n",
    "irisDF = irisDF.select('features','label')\n",
    "trainDF, testDF = irisDF.randomSplit([0.8,0.2],seed=123)\n",
    "rf = RandomForestClassifier()\n",
    "eva = MulticlassClassificationEvaluator(metricName='accuracy')\n",
    "myParams = ParamGridBuilder().addGrid(rf.numTrees,[1,2,3])\\\n",
    "                            .addGrid(rf.maxDepth,[4,5,6])\\\n",
    "                            .addGrid(rf.impurity,['gini','entropy']).build()\n",
    "validator = CrossValidator(parallelism=4, \n",
    "                                 estimator=rf,\n",
    "                                 estimatorParamMaps=myParams,\n",
    "                                 evaluator=eva,\n",
    "                                 numFolds=5)\n",
    "model = validator.fit(trainDF)\n",
    "print(\"Best Model hesaplandı\")\n",
    "print(\"Best NumTrees : \", model.bestModel.getNumTrees)\n",
    "print(\"Best MaxDepth : \", model.bestModel.getMaxDepth())\n",
    "print(\"Best Impurity : \", model.bestModel.getImpurity())\n",
    "resultDF = model.transform(testDF)\n",
    "result = eva.evaluate(resultDF)\n",
    "print(\"Accuracy of the best model \",result)"
   ]
  },
  {
   "cell_type": "code",
   "execution_count": null,
   "metadata": {},
   "outputs": [],
   "source": []
  }
 ],
 "metadata": {
  "kernelspec": {
   "display_name": "Python 3",
   "language": "python",
   "name": "python3"
  },
  "language_info": {
   "codemirror_mode": {
    "name": "ipython",
    "version": 3
   },
   "file_extension": ".py",
   "mimetype": "text/x-python",
   "name": "python",
   "nbconvert_exporter": "python",
   "pygments_lexer": "ipython3",
   "version": "3.8.3"
  }
 },
 "nbformat": 4,
 "nbformat_minor": 4
}
