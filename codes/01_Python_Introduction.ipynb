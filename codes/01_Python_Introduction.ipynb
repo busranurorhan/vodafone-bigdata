{
 "cells": [
  {
   "cell_type": "code",
   "execution_count": 1,
   "metadata": {
    "colab": {
     "base_uri": "https://localhost:8080/"
    },
    "id": "UWgBG0YbxkTP",
    "outputId": "611bb9ac-8ec0-49d7-90ea-cbff58fb94ff"
   },
   "outputs": [
    {
     "name": "stdout",
     "output_type": "stream",
     "text": [
      "Şu dağların yükseğine erseler\n"
     ]
    }
   ],
   "source": [
    "print(\"Şu dağların yükseğine erseler\")"
   ]
  },
  {
   "cell_type": "code",
   "execution_count": 4,
   "metadata": {
    "id": "Dh8cLlHayRSj"
   },
   "outputs": [
    {
     "name": "stdout",
     "output_type": "stream",
     "text": [
      "<class 'int'>\n",
      "<class 'float'>\n",
      "<class 'str'>\n"
     ]
    }
   ],
   "source": [
    "#Python özellikleri\n",
    "# 1- ) dynamic typed\n",
    "#int x  = 45 #C ailesinden gelen diller #static typed\n",
    "x = 100\n",
    "print( type(x))\n",
    "\n",
    "x = 5.5\n",
    "print( type(x))\n",
    "\n",
    "x = \"ahmet\"\n",
    "print( type(x))\n"
   ]
  },
  {
   "cell_type": "code",
   "execution_count": 5,
   "metadata": {},
   "outputs": [
    {
     "name": "stdout",
     "output_type": "stream",
     "text": [
      "sayı 50 den büyüktür\n",
      "Hala if kod bloğu içerisindeyiz\n",
      "Burası if kod bloğunun dışıdır\n"
     ]
    }
   ],
   "source": [
    "# 2- ) Yorumlanan (Interpreted) bir dil (derlemeye gerek yok, yaz çalıştır)\n",
    "# 3- ) Kod blokları süslü parantez \"{}\" yeni  tab ile birbirinden ayrılır\n",
    "# 4- ) Kod bloğu başlama işareti olarak : (iki nokta üst üste ) işareti kullanılır\n",
    "\n",
    "x = 120\n",
    "\n",
    "if ( x > 50 ):\n",
    "    print(\"sayı 50 den büyüktür\")\n",
    "    print(\"Hala if kod bloğu içerisindeyiz\")\n",
    "else:\n",
    "    print(\"sayı 50 den küçüktür\")\n",
    "    print(\"Hala else kod bloğu içerisindeyiz\")\n",
    "\n",
    "print(\"Burası if kod bloğunun dışıdır\")\n",
    "    "
   ]
  },
  {
   "cell_type": "code",
   "execution_count": null,
   "metadata": {},
   "outputs": [],
   "source": []
  }
 ],
 "metadata": {
  "colab": {
   "name": "01-Python-Introduction.ipynb",
   "provenance": []
  },
  "kernelspec": {
   "display_name": "Python 3",
   "language": "python",
   "name": "python3"
  },
  "language_info": {
   "codemirror_mode": {
    "name": "ipython",
    "version": 3
   },
   "file_extension": ".py",
   "mimetype": "text/x-python",
   "name": "python",
   "nbconvert_exporter": "python",
   "pygments_lexer": "ipython3",
   "version": "3.8.3"
  }
 },
 "nbformat": 4,
 "nbformat_minor": 1
}
