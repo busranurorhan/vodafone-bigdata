{
 "cells": [
  {
   "cell_type": "code",
   "execution_count": 35,
   "metadata": {},
   "outputs": [
    {
     "name": "stdout",
     "output_type": "stream",
     "text": [
      "bitti\n",
      "Kat sayılar (Coefficients) :  [96677.66068344089,0.0,881.5784548802857,-8809.21275403053]\n",
      "Sabit sayı  (Intercept) :  98322.38079593662\n"
     ]
    }
   ],
   "source": [
    "from pyspark.ml.regression import LinearRegression\n",
    "from pyspark.ml.feature import VectorAssembler\n",
    "from pyspark.ml.classification import DecisionTreeClassifier\n",
    "from pyspark.sql import SparkSession\n",
    "\n",
    "spark = SparkSession.builder.getOrCreate()\n",
    "evDF = spark.read.option('header','true').option('inferSchema','true').option('delimiter',';').csv('datasets/ev-fiyatlari.csv')\n",
    "\n",
    "#evDF.printSchema()\n",
    "vec = VectorAssembler(inputCols=['oda','salon','alan','yas'], outputCol='features')\n",
    "evDF = vec.transform(evDF)\n",
    "\n",
    "evDF = evDF.withColumnRenamed('fiyat','label')\n",
    "#evDF.show()\n",
    "\n",
    "#Model Training satırına kadar olan kısıma Data Cleansing, Feature Selection ve Feature Enginering \n",
    "lr = LinearRegression()\n",
    "modelLR = lr.fit(evDF) # Model Training (Makine Öğrenmesi tam bu satırda yapılır)\n",
    "print('bitti')\n",
    "print(\"Kat sayılar (Coefficients) : \",model.coefficients)\n",
    "print(\"Sabit sayı  (Intercept) : \",model.intercept)\n",
    "\n",
    "#Modeli (Fonksiyon) hesapladıktan sonra modelin başarısını arttırmak için Parametre ince ayar (Hyper Parameter Tunning) yapmak gerekir"
   ]
  },
  {
   "cell_type": "code",
   "execution_count": 24,
   "metadata": {},
   "outputs": [],
   "source": [
    "#Linear Regression modeli  (Linear Model)\n",
    "def evFiyatiNedir(oda,salon,alan,yas) :\n",
    "    fiyat = 96677 * oda +  0 * salon + 881 * alan + -8809 * yas + 98322\n",
    "    return fiyat"
   ]
  },
  {
   "cell_type": "code",
   "execution_count": 25,
   "metadata": {},
   "outputs": [
    {
     "name": "stdout",
     "output_type": "stream",
     "text": [
      "Yeni evin fiyatı  450257\n"
     ]
    }
   ],
   "source": [
    "a = evFiyatiNedir(2,1,190,1) # Prediction\n",
    "print(\"Yeni evin fiyatı \",a)"
   ]
  },
  {
   "cell_type": "code",
   "execution_count": 26,
   "metadata": {},
   "outputs": [],
   "source": [
    "def hastaMi(t1,t2,t3,t4,t5,t6,t7,t8):\n",
    "    return 0\n",
    "\n",
    "#False (Accuracy)\n",
    "\n",
    "#False Positive (Precision değerine bakmak gerekir)\n",
    "#False Negative (Recall değerine bakmak gerekir)"
   ]
  },
  {
   "cell_type": "code",
   "execution_count": 27,
   "metadata": {},
   "outputs": [
    {
     "name": "stdout",
     "output_type": "stream",
     "text": [
      "Bitti\n"
     ]
    }
   ],
   "source": [
    "#Karar ağacı (Decision tree) Model  (Non-Linear Model, Tree-Based)\n",
    "def evFiyatiNedir2(oda,salon,alan,yas) :\n",
    "    if oda <= 3:\n",
    "        if salon <=1:\n",
    "            if alan > 100:\n",
    "                return 380000\n",
    "            else:\n",
    "                return 270000\n",
    "        else:\n",
    "            if oda >= 3.5:\n",
    "                return 480000\n",
    "            else:\n",
    "                return 400000\n",
    "    else:\n",
    "        if yas < 5:\n",
    "            return 800000\n",
    "            \n",
    "from pyspark.ml.regression import DecisionTreeRegressor\n",
    "\n",
    "dt = DecisionTreeRegressor()\n",
    "modelDT = dt.fit(evDF) #Yukarıdaki fonksiyona benzer bir fonksiyon bulmaya çalışıyoruz\n",
    "print('Bitti')     "
   ]
  },
  {
   "cell_type": "code",
   "execution_count": 28,
   "metadata": {},
   "outputs": [
    {
     "name": "stdout",
     "output_type": "stream",
     "text": [
      "DecisionTreeRegressionModel: uid=DecisionTreeRegressor_82c13989ac3b, depth=3, numNodes=9, numFeatures=4\n",
      "  If (feature 0 <= 2.5)\n",
      "   If (feature 0 <= 1.5)\n",
      "    Predict: 195000.0\n",
      "   Else (feature 0 > 1.5)\n",
      "    If (feature 2 <= 95.0)\n",
      "     Predict: 280000.0\n",
      "    Else (feature 2 > 95.0)\n",
      "     Predict: 330000.0\n",
      "  Else (feature 0 > 2.5)\n",
      "   If (feature 2 <= 190.0)\n",
      "    Predict: 450000.0\n",
      "   Else (feature 2 > 190.0)\n",
      "    Predict: 600000.0\n",
      "\n"
     ]
    }
   ],
   "source": [
    "print(modelDT.toDebugString)"
   ]
  },
  {
   "cell_type": "code",
   "execution_count": 34,
   "metadata": {},
   "outputs": [
    {
     "name": "stdout",
     "output_type": "stream",
     "text": [
      "+---+-----+----+---+-------------------+\n",
      "|oda|salon|alan|yas|           features|\n",
      "+---+-----+----+---+-------------------+\n",
      "|  1|    1| 115|  5|[1.0,1.0,115.0,5.0]|\n",
      "|  2|    1|  77|  2| [2.0,1.0,77.0,2.0]|\n",
      "|  2|    1|  80|  3| [2.0,1.0,80.0,3.0]|\n",
      "|  3|    1| 180|  5|[3.0,1.0,180.0,5.0]|\n",
      "|  1|    1|  75|  0| [1.0,1.0,75.0,0.0]|\n",
      "|  2|    1| 122|  1|[2.0,1.0,122.0,1.0]|\n",
      "+---+-----+----+---+-------------------+\n",
      "\n",
      "+---+-----+----+---+-------------------+------------------+\n",
      "|oda|salon|alan|yas|           features|        prediction|\n",
      "+---+-----+----+---+-------------------+------------------+\n",
      "|  1|    1| 115|  5|[1.0,1.0,115.0,5.0]| 252335.5000204577|\n",
      "|  2|    1|  77|  2| [2.0,1.0,77.0,2.0]|341940.81768053933|\n",
      "|  2|    1|  80|  3| [2.0,1.0,80.0,3.0]| 335776.3402911497|\n",
      "|  3|    1| 180|  5|[3.0,1.0,180.0,5.0]| 502993.4209545581|\n",
      "|  1|    1|  75|  0| [1.0,1.0,75.0,0.0]|261118.42559539893|\n",
      "|  2|    1| 122|  1|[2.0,1.0,122.0,1.0]| 390421.0609041827|\n",
      "+---+-----+----+---+-------------------+------------------+\n",
      "\n"
     ]
    }
   ],
   "source": [
    "yenilerDF = spark.read.option('header','true')\\\n",
    "        .option('inferSchema','true')\\\n",
    "        .option('delimiter',';').csv('datasets/yeni-evler.csv')\n",
    "\n",
    "vec = VectorAssembler(inputCols=['oda','salon','alan','yas'],outputCol='features')\n",
    "yenilerDF = vec.transform(yenilerDF)\n",
    "\n",
    "yenilerDF.show()\n",
    "lrSonuclarDF = modelLR.transform(yenilerDF)\n",
    "\n",
    "lrSonuclarDF.show()"
   ]
  },
  {
   "cell_type": "code",
   "execution_count": 33,
   "metadata": {},
   "outputs": [
    {
     "name": "stdout",
     "output_type": "stream",
     "text": [
      "+---+-----+----+---+-------------------+----------+\n",
      "|oda|salon|alan|yas|           features|prediction|\n",
      "+---+-----+----+---+-------------------+----------+\n",
      "|  1|    1| 115|  5|[1.0,1.0,115.0,5.0]|  195000.0|\n",
      "|  2|    1|  77|  2| [2.0,1.0,77.0,2.0]|  280000.0|\n",
      "|  2|    1|  80|  3| [2.0,1.0,80.0,3.0]|  280000.0|\n",
      "|  3|    1| 180|  5|[3.0,1.0,180.0,5.0]|  450000.0|\n",
      "|  1|    1|  75|  0| [1.0,1.0,75.0,0.0]|  195000.0|\n",
      "|  2|    1| 122|  1|[2.0,1.0,122.0,1.0]|  330000.0|\n",
      "+---+-----+----+---+-------------------+----------+\n",
      "\n"
     ]
    }
   ],
   "source": [
    "dtSonuclarDF = modelDT.transform(yenilerDF)\n",
    "dtSonuclarDF.show()"
   ]
  },
  {
   "cell_type": "code",
   "execution_count": null,
   "metadata": {},
   "outputs": [],
   "source": []
  }
 ],
 "metadata": {
  "kernelspec": {
   "display_name": "Python 3",
   "language": "python",
   "name": "python3"
  },
  "language_info": {
   "codemirror_mode": {
    "name": "ipython",
    "version": 3
   },
   "file_extension": ".py",
   "mimetype": "text/x-python",
   "name": "python",
   "nbconvert_exporter": "python",
   "pygments_lexer": "ipython3",
   "version": "3.8.3"
  }
 },
 "nbformat": 4,
 "nbformat_minor": 4
}
