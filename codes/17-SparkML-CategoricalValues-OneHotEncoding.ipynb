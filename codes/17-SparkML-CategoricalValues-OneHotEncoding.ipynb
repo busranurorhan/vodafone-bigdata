{
 "cells": [
  {
   "cell_type": "code",
   "execution_count": 1,
   "metadata": {},
   "outputs": [
    {
     "name": "stdout",
     "output_type": "stream",
     "text": [
      "+--------+---+-----+------+------------+-------------+-----------------+\n",
      "|   Sehir|Oda|salon| label|indexedSehir| encodedSehir|         features|\n",
      "+--------+---+-----+------+------------+-------------+-----------------+\n",
      "|   izmir|  3|    1|500000|         1.0|(2,[1],[1.0])|[0.0,1.0,3.0,1.0]|\n",
      "|istanbul|  3|    1|800000|         0.0|(2,[0],[1.0])|[1.0,0.0,3.0,1.0]|\n",
      "|  ankara|  3|    1|600000|         2.0|    (2,[],[])|[0.0,0.0,3.0,1.0]|\n",
      "|   izmir|  2|    1|300000|         1.0|(2,[1],[1.0])|[0.0,1.0,2.0,1.0]|\n",
      "|istanbul|  2|    1|450000|         0.0|(2,[0],[1.0])|[1.0,0.0,2.0,1.0]|\n",
      "|istanbul|  1|    1|250000|         0.0|(2,[0],[1.0])|[1.0,0.0,1.0,1.0]|\n",
      "|  ankara|  2|    1|380000|         2.0|    (2,[],[])|[0.0,0.0,2.0,1.0]|\n",
      "|   izmir|  1|    1|220000|         1.0|(2,[1],[1.0])|[0.0,1.0,1.0,1.0]|\n",
      "|istanbul|  1|    1|245000|         0.0|(2,[0],[1.0])|[1.0,0.0,1.0,1.0]|\n",
      "+--------+---+-----+------+------------+-------------+-----------------+\n",
      "\n",
      "+-----------------+------+\n",
      "|         features| label|\n",
      "+-----------------+------+\n",
      "|[0.0,1.0,3.0,1.0]|500000|\n",
      "|[1.0,0.0,3.0,1.0]|800000|\n",
      "|[0.0,0.0,3.0,1.0]|600000|\n",
      "|[0.0,1.0,2.0,1.0]|300000|\n",
      "|[1.0,0.0,2.0,1.0]|450000|\n",
      "|[1.0,0.0,1.0,1.0]|250000|\n",
      "|[0.0,0.0,2.0,1.0]|380000|\n",
      "|[0.0,1.0,1.0,1.0]|220000|\n",
      "|[1.0,0.0,1.0,1.0]|245000|\n",
      "+-----------------+------+\n",
      "\n",
      "Bitti\n",
      "Çarpanlar :  [107857.14398708245,-42261.90458170463,215476.19109859318,0.0]\n",
      "Sabit Sayı :  -48690.477997543654\n"
     ]
    }
   ],
   "source": [
    "from pyspark.sql import SparkSession\n",
    "from pyspark.ml.feature import StringIndexer,OneHotEncoder,VectorAssembler\n",
    "from pyspark.ml.regression import LinearRegression\n",
    "\n",
    "spark = SparkSession.Builder().appName('Spark DataFrame Introduction').getOrCreate()\n",
    "pointsDF = spark.read.option('inferSchema','true')\\\n",
    "                        .option('header','true')\\\n",
    "                        .option('delimiter',';').csv('datasets/evler.csv')\n",
    "\n",
    "indexer = StringIndexer(inputCol='Sehir',outputCol='indexedSehir') ##Linear modellerde bu kulanılmamalı (Tree-based lerde kötü sonuç vermeyebilir)\n",
    "indexModel = indexer.fit(pointsDF)\n",
    "pointsDF = indexModel.transform(pointsDF)\n",
    "#pointsDF.show()\n",
    "#Index işleminden sonra Encode işlemi yaparsak en doğrusu olur (Hem linear hemde tree-based algoritmalar için)\n",
    "encoder = OneHotEncoder(inputCol='indexedSehir',outputCol='encodedSehir')\n",
    "encodeModel = encoder.fit(pointsDF)\n",
    "pointsDF = encodeModel.transform(pointsDF)\n",
    "\n",
    "pointsDF = pointsDF.withColumnRenamed('fiyat','label')\n",
    "#pointsDF = pointsDF.select('encodedSehir','Oda','salon','label')\n",
    "\n",
    "vec = VectorAssembler(inputCols=['encodedSehir','Oda','salon'],outputCol='features')\n",
    "pointsDF = vec.transform(pointsDF)\n",
    "pointsDF.show()\n",
    "pointsDF = pointsDF.select('features','label')\n",
    "pointsDF.show()\n",
    "\n",
    "lr = LinearRegression() \n",
    "model = lr.fit(pointsDF)##Makine Öğrenmesinin yapıldığı satır\n",
    "print('Bitti')\n",
    "print(\"Çarpanlar : \", model.coefficients)\n",
    "print(\"Sabit Sayı : \", model.intercept)"
   ]
  },
  {
   "cell_type": "code",
   "execution_count": 15,
   "metadata": {},
   "outputs": [],
   "source": [
    "#SparseVector  --> DenseVector\n",
    "#(2,[],[])     --> [0,0]\n",
    "#(2,[1],[1.0]) --> [0,1]\n",
    "#(2,[0],[1.0]  --> [1,0]\n",
    "#[1,2,3,4] --> 4 *  32bit\n",
    "#[11,0,0,0,34,0,23,0,0,0,0,0,....]  --> 1000000 * 32bit --> 4 MB #DenseVector\n",
    "#(1000000, [0,4,6],[11,34,23] )  --> 7 * 32bit #SparseVector"
   ]
  },
  {
   "cell_type": "code",
   "execution_count": 23,
   "metadata": {},
   "outputs": [
    {
     "name": "stdout",
     "output_type": "stream",
     "text": [
      "+--------+---+-----+------------+-------------+-----------------+\n",
      "|   Sehir|Oda|salon|indexedSehir| encodedSehir|         features|\n",
      "+--------+---+-----+------------+-------------+-----------------+\n",
      "|   izmir|  3|    1|         1.0|(2,[1],[1.0])|[0.0,1.0,3.0,1.0]|\n",
      "|istanbul|  3|    1|         0.0|(2,[0],[1.0])|[1.0,0.0,3.0,1.0]|\n",
      "|  ankara|  3|    1|         2.0|    (2,[],[])|[0.0,0.0,3.0,1.0]|\n",
      "+--------+---+-----+------------+-------------+-----------------+\n",
      "\n",
      "+--------+---+-----+------------+-------------+-----------------+-----------------+\n",
      "|   Sehir|Oda|salon|indexedSehir| encodedSehir|         features|       prediction|\n",
      "+--------+---+-----+------------+-------------+-----------------+-----------------+\n",
      "|   izmir|  3|    1|         1.0|(2,[1],[1.0])|[0.0,1.0,3.0,1.0]|555476.1907165312|\n",
      "|istanbul|  3|    1|         0.0|(2,[0],[1.0])|[1.0,0.0,3.0,1.0]|705595.2392853183|\n",
      "|  ankara|  3|    1|         2.0|    (2,[],[])|[0.0,0.0,3.0,1.0]|597738.0952982359|\n",
      "+--------+---+-----+------------+-------------+-----------------+-----------------+\n",
      "\n"
     ]
    }
   ],
   "source": [
    "yenilerDF = spark.read.option('inferSchema','true')\\\n",
    "                        .option('header','true')\\\n",
    "                        .option('delimiter',';').csv('datasets/evler-fiyati-bilinmeyen.csv')\n",
    "yenilerDF = indexModel.transform(yenilerDF)\n",
    "yenilerDF = encodeModel.transform(yenilerDF)\n",
    "yenilerDF = vec.transform(yenilerDF)\n",
    "yenilerDF.show()\n",
    "yenilerDF = model.transform(yenilerDF) #Prediction yapıyoruz\n",
    "yenilerDF.show()"
   ]
  },
  {
   "cell_type": "code",
   "execution_count": null,
   "metadata": {},
   "outputs": [],
   "source": []
  }
 ],
 "metadata": {
  "kernelspec": {
   "display_name": "Python 3",
   "language": "python",
   "name": "python3"
  },
  "language_info": {
   "codemirror_mode": {
    "name": "ipython",
    "version": 3
   },
   "file_extension": ".py",
   "mimetype": "text/x-python",
   "name": "python",
   "nbconvert_exporter": "python",
   "pygments_lexer": "ipython3",
   "version": "3.8.3"
  }
 },
 "nbformat": 4,
 "nbformat_minor": 4
}
