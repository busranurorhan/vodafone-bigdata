{
 "cells": [
  {
   "cell_type": "code",
   "execution_count": 12,
   "metadata": {},
   "outputs": [
    {
     "name": "stdout",
     "output_type": "stream",
     "text": [
      "+--------+--------+--------+--------+\n",
      "|       x|       y|   yeniX|   yeniY|\n",
      "+--------+--------+--------+--------+\n",
      "|       5|       5|       5|       5|\n",
      "|     105|     107|     105|     107|\n",
      "|     105|     106|     105|     106|\n",
      "|    null|       6|       1|       6|\n",
      "|       6|       6|       6|       6|\n",
      "|     106|    null|     106|       0|\n",
      "|       7|       7|       7|       7|\n",
      "|    null|       6|       1|       6|\n",
      "|     107|     107|     107|     107|\n",
      "|       6|       7|       6|       7|\n",
      "|       7|    null|       7|       0|\n",
      "|     108|     108|     108|     108|\n",
      "|       8|       6|       8|       6|\n",
      "|    null|     108|       1|     108|\n",
      "|       5|       8|       5|       8|\n",
      "|     107|     106|     107|     106|\n",
      "|       8|       8|       8|       8|\n",
      "|    null|     107|       1|     107|\n",
      "|     107|     108|     107|     108|\n",
      "|     108|     106|     108|     106|\n",
      "|10000008|10000006|10000008|10000006|\n",
      "+--------+--------+--------+--------+\n",
      "\n"
     ]
    }
   ],
   "source": [
    "#points-null-vakues.txt dosyasında;\n",
    " # --- ilk kolondaki null değerleri 1 ile \n",
    " # --- ikinci kolondaki null değerleri 0 ile değiştiriniz!! (UserDefinedFunction)\n",
    " # --- kısayol\n",
    " # --- ilk kolondaki null değerleri ortalama ile\n",
    " # --- ikinci kolondaki medyan ile değişitiriniz\n",
    "\n",
    "from pyspark.sql import SparkSession\n",
    "from pyspark.sql.functions import UserDefinedFunction\n",
    "from pyspark.sql.types import IntegerType\n",
    "\n",
    "spark = SparkSession.Builder().appName('Spark DataFrame Introduction').getOrCreate()\n",
    "pointsDF = spark.read.option('inferSchema','true')\\\n",
    "                        .option('header','false')\\\n",
    "                        .option('delimiter',',').csv('datasets/points-null-values.txt')\n",
    "pointsDF = pointsDF.withColumnRenamed('_c0','x')\n",
    "pointsDF = pointsDF.withColumnRenamed('_c1','y')\n",
    "\n",
    "#Uzun Yol (Sabit sayı ile değiştirme)\n",
    "def replaceNullColumn1(x):\n",
    "    if x is None :\n",
    "        x = 1\n",
    "    return x\n",
    "def replaceNullColumn2(x):\n",
    "    if x is None :\n",
    "        x = 0\n",
    "    return x\n",
    "replaceUDF1 = UserDefinedFunction(replaceNullColumn1,IntegerType())\n",
    "replaceUDF2 = UserDefinedFunction(replaceNullColumn2,IntegerType())\n",
    "pointsDF = pointsDF.withColumn('yeniX',replaceUDF1('x'))\n",
    "pointsDF = pointsDF.withColumn('yeniY',replaceUDF2('y'))\n",
    "    \n",
    "pointsDF.show(90)"
   ]
  },
  {
   "cell_type": "code",
   "execution_count": 13,
   "metadata": {},
   "outputs": [
    {
     "name": "stdout",
     "output_type": "stream",
     "text": [
      "+---+---+\n",
      "|  x|  y|\n",
      "+---+---+\n",
      "|  5|  5|\n",
      "|105|107|\n",
      "|105|106|\n",
      "|  0|  6|\n",
      "|  6|  6|\n",
      "|106|  1|\n",
      "|  7|  7|\n",
      "|  0|  6|\n",
      "|107|107|\n",
      "|  6|  7|\n",
      "|  7|  1|\n",
      "|108|108|\n",
      "|  8|  6|\n",
      "|  0|108|\n",
      "|  5|  8|\n",
      "|107|106|\n",
      "|  8|  8|\n",
      "|  0|107|\n",
      "|107|108|\n",
      "|108|106|\n",
      "+---+---+\n",
      "only showing top 20 rows\n",
      "\n"
     ]
    }
   ],
   "source": [
    "#Kısa Yol (Sabit sayı ile değiştirme)\n",
    "from pyspark.sql import SparkSession\n",
    "from pyspark.sql.functions import UserDefinedFunction\n",
    "from pyspark.sql.types import IntegerType\n",
    "\n",
    "spark = SparkSession.Builder().appName('Spark DataFrame Introduction').getOrCreate()\n",
    "pointsDF = spark.read.option('inferSchema','true')\\\n",
    "                        .option('header','false')\\\n",
    "                        .option('delimiter',',').csv('datasets/points-null-values.txt')\n",
    "pointsDF = pointsDF.withColumnRenamed('_c0','x')\n",
    "pointsDF = pointsDF.withColumnRenamed('_c1','y')\n",
    "\n",
    "pointsDF = pointsDF.fillna(1,'x')\n",
    "pointsDF = pointsDF.fillna(0,'y')\n",
    "pointsDF.show()"
   ]
  },
  {
   "cell_type": "code",
   "execution_count": 14,
   "metadata": {},
   "outputs": [
    {
     "name": "stdout",
     "output_type": "stream",
     "text": [
      "+-------+-----------------+-----------------+\n",
      "|summary|                x|                y|\n",
      "+-------+-----------------+-----------------+\n",
      "|  count|               17|               19|\n",
      "|   mean|         588289.0|526369.8947368421|\n",
      "| stddev|2425344.472743975|2294145.690034356|\n",
      "|    min|                5|                5|\n",
      "|    max|         10000008|         10000006|\n",
      "+-------+-----------------+-----------------+\n",
      "\n"
     ]
    }
   ],
   "source": [
    "from pyspark.sql import SparkSession\n",
    "from pyspark.sql.functions import UserDefinedFunction\n",
    "from pyspark.sql.types import IntegerType\n",
    "\n",
    "spark = SparkSession.Builder().appName('Spark DataFrame Introduction').getOrCreate()\n",
    "pointsDF = spark.read.option('inferSchema','true')\\\n",
    "                        .option('header','false')\\\n",
    "                        .option('delimiter',',').csv('datasets/points-null-values.txt')\n",
    "pointsDF = pointsDF.withColumnRenamed('_c0','x')\n",
    "pointsDF = pointsDF.withColumnRenamed('_c1','y')\n",
    "pointsDF.describe().show()"
   ]
  },
  {
   "cell_type": "code",
   "execution_count": 21,
   "metadata": {},
   "outputs": [
    {
     "name": "stdout",
     "output_type": "stream",
     "text": [
      "+--------+--------+------------+--------------+\n",
      "|       x|       y|imputedXMean|imputedYMedian|\n",
      "+--------+--------+------------+--------------+\n",
      "|       5|       5|           5|             5|\n",
      "|     105|     107|         105|           107|\n",
      "|     105|     106|         105|           106|\n",
      "|    null|       6|      588289|             6|\n",
      "|       6|       6|           6|             6|\n",
      "|     106|    null|         106|           106|\n",
      "|       7|       7|           7|             7|\n",
      "|    null|       6|      588289|             6|\n",
      "|     107|     107|         107|           107|\n",
      "|       6|       7|           6|             7|\n",
      "|       7|    null|           7|           106|\n",
      "|     108|     108|         108|           108|\n",
      "|       8|       6|           8|             6|\n",
      "|    null|     108|      588289|           108|\n",
      "|       5|       8|           5|             8|\n",
      "|     107|     106|         107|           106|\n",
      "|       8|       8|           8|             8|\n",
      "|    null|     107|      588289|           107|\n",
      "|     107|     108|         107|           108|\n",
      "|     108|     106|         108|           106|\n",
      "|10000008|10000006|    10000008|      10000006|\n",
      "+--------+--------+------------+--------------+\n",
      "\n"
     ]
    }
   ],
   "source": [
    "#Kısa Yol (Ortalama ile değiştirme)\n",
    "from pyspark.sql import SparkSession\n",
    "from pyspark.ml.feature import Imputer\n",
    "\n",
    "spark = SparkSession.Builder().appName('Spark DataFrame Introduction').getOrCreate()\n",
    "pointsDF = spark.read.option('inferSchema','true')\\\n",
    "                        .option('header','false')\\\n",
    "                        .option('delimiter',',').csv('datasets/points-null-values.txt')\n",
    "pointsDF = pointsDF.withColumnRenamed('_c0','x')\n",
    "pointsDF = pointsDF.withColumnRenamed('_c1','y')\n",
    "#pointsDF.show()\n",
    "\n",
    "#Imputer kullanırken öncelikle outlier var mı diye bakarız\n",
    "#Eğer outlier yok ise ortalama (Mean) ile değiştirmek mantıklıdır\n",
    "#Eğer outlier varsa ve silmek istemiyorsak medyan (median) ile değiştirmek mantıklıdır\n",
    "meanImputer = Imputer(inputCol='x',outputCol='imputedXMean',strategy='mean')\n",
    "pointsDF = meanImputer.fit(pointsDF).transform(pointsDF)\n",
    "\n",
    "medianImputer = Imputer(inputCol='y',outputCol='imputedYMedian',strategy='median')\n",
    "pointsDF = medianImputer.fit(pointsDF).transform(pointsDF)\n",
    "\n",
    "pointsDF.show(100)"
   ]
  },
  {
   "cell_type": "code",
   "execution_count": null,
   "metadata": {},
   "outputs": [],
   "source": [
    "#Homework 2 hint: DataFrame pivot, Recommendation Engine , Collabrative Filtering"
   ]
  }
 ],
 "metadata": {
  "kernelspec": {
   "display_name": "Python 3",
   "language": "python",
   "name": "python3"
  },
  "language_info": {
   "codemirror_mode": {
    "name": "ipython",
    "version": 3
   },
   "file_extension": ".py",
   "mimetype": "text/x-python",
   "name": "python",
   "nbconvert_exporter": "python",
   "pygments_lexer": "ipython3",
   "version": "3.8.3"
  }
 },
 "nbformat": 4,
 "nbformat_minor": 4
}
