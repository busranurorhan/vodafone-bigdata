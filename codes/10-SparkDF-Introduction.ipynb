{
 "cells": [
  {
   "cell_type": "code",
   "execution_count": 17,
   "metadata": {},
   "outputs": [
    {
     "name": "stdout",
     "output_type": "stream",
     "text": [
      "+---+----+----+----+\n",
      "|  x|   y|   z|2x+y|\n",
      "+---+----+----+----+\n",
      "|  5| 5.0| 5.0|15.0|\n",
      "| 15|17.0|15.0|47.0|\n",
      "| 15|16.0|15.0|46.0|\n",
      "|  5| 6.0| 5.0|16.0|\n",
      "|  6| 6.0| 6.0|18.0|\n",
      "| 16|16.0|16.0|48.0|\n",
      "|  8| 8.0| 8.0|24.0|\n",
      "|  7| 7.5| 7.0|21.5|\n",
      "| 17|17.0|17.0|51.0|\n",
      "|  6| 7.0| 6.0|19.0|\n",
      "|  7| 8.0| 7.0|22.0|\n",
      "| 18|18.0|18.0|54.0|\n",
      "|  8| 6.0| 8.0|22.0|\n",
      "| 17|16.0|17.0|50.0|\n",
      "|  5| 8.0| 5.0|18.0|\n",
      "| 17|16.0|17.0|50.0|\n",
      "|  8| 8.0| 8.0|24.0|\n",
      "| 16|17.0|16.0|49.0|\n",
      "| 17|18.0|17.0|52.0|\n",
      "| 18|16.0|18.0|52.0|\n",
      "+---+----+----+----+\n",
      "only showing top 20 rows\n",
      "\n",
      "root\n",
      " |-- x: integer (nullable = true)\n",
      " |-- y: double (nullable = true)\n",
      " |-- z: float (nullable = true)\n",
      " |-- 2x+y: double (nullable = true)\n",
      "\n"
     ]
    }
   ],
   "source": [
    "from pyspark.sql import SparkSession\n",
    "spark = SparkSession.Builder().appName('Spark DataFrame Introduction').getOrCreate()\n",
    "pointsDF = spark.read.option('inferSchema','true').csv('datasets/points.txt')\n",
    "pointsDF = pointsDF.withColumnRenamed('_c0','x') #Kolon isimlerini değiştiriyoruz\n",
    "pointsDF = pointsDF.withColumnRenamed('_c1','y') #Kolon isimlerini değiştiriyoruz\n",
    "pointsDF = pointsDF.withColumn(\"z\",pointsDF[\"x\"].cast(\"float\"))  #Kolonun veri tipi değiştiriyoruz\n",
    "pointsDF =  pointsDF.withColumn(\"2x+y\", 2* pointsDF['x']+pointsDF['y']) #Yeni kolon ekliyoruz\n",
    "pointsDF.show()\n",
    "pointsDF.printSchema()"
   ]
  },
  {
   "cell_type": "code",
   "execution_count": 24,
   "metadata": {},
   "outputs": [
    {
     "name": "stdout",
     "output_type": "stream",
     "text": [
      "root\n",
      " |-- enlem: integer (nullable = true)\n",
      " |-- boylam: double (nullable = true)\n",
      "\n",
      "+-----+------+\n",
      "|enlem|boylam|\n",
      "+-----+------+\n",
      "|    5|   5.0|\n",
      "|   15|  17.0|\n",
      "|   15|  16.0|\n",
      "|    5|   6.0|\n",
      "|    6|   6.0|\n",
      "|   16|  16.0|\n",
      "|    8|   8.0|\n",
      "|    7|   7.5|\n",
      "|   17|  17.0|\n",
      "|    6|   7.0|\n",
      "|    7|   8.0|\n",
      "|   18|  18.0|\n",
      "|    8|   6.0|\n",
      "|   17|  16.0|\n",
      "|    5|   8.0|\n",
      "|   17|  16.0|\n",
      "|    8|   8.0|\n",
      "|   16|  17.0|\n",
      "|   17|  18.0|\n",
      "|   18|  16.0|\n",
      "+-----+------+\n",
      "only showing top 20 rows\n",
      "\n"
     ]
    },
    {
     "data": {
      "text/plain": [
       "[(5, 5.0)]"
      ]
     },
     "execution_count": 24,
     "metadata": {},
     "output_type": "execute_result"
    }
   ],
   "source": [
    "from pyspark.sql import SparkSession\n",
    "spark = SparkSession.Builder().appName('Spark DataFrame Introduction').getOrCreate()\n",
    "pointsDF = spark.read.option('inferSchema','true').option('header','true').csv('datasets/points.txt')\n",
    "pointsDF.printSchema()\n",
    "pointsDF.show()\n",
    "print( pointsDF.rdd.map(lambda x : tuple(x)).take(1) )\n",
    "\n",
    "rdd = pointsDF.rdd  # DataFrame --> RDD\n",
    "df = rdd.toDF()  # RDD --> DataFrame\n",
    "df.show()"
   ]
  },
  {
   "cell_type": "code",
   "execution_count": 26,
   "metadata": {},
   "outputs": [
    {
     "name": "stdout",
     "output_type": "stream",
     "text": [
      "+-----+------+\n",
      "|enlem|boylam|\n",
      "+-----+------+\n",
      "|    5|   5.0|\n",
      "|   15|  17.0|\n",
      "|   15|  16.0|\n",
      "|    5|   6.0|\n",
      "|    6|   6.0|\n",
      "|   16|  16.0|\n",
      "|    8|   8.0|\n",
      "|    7|   7.5|\n",
      "|   17|  17.0|\n",
      "|    6|   7.0|\n",
      "|    7|   8.0|\n",
      "|   18|  18.0|\n",
      "|    8|   6.0|\n",
      "|   17|  16.0|\n",
      "|    5|   8.0|\n",
      "|   17|  16.0|\n",
      "|    8|   8.0|\n",
      "|   16|  17.0|\n",
      "|   17|  18.0|\n",
      "|   18|  16.0|\n",
      "+-----+------+\n",
      "only showing top 20 rows\n",
      "\n"
     ]
    }
   ],
   "source": []
  },
  {
   "cell_type": "code",
   "execution_count": null,
   "metadata": {},
   "outputs": [],
   "source": []
  }
 ],
 "metadata": {
  "kernelspec": {
   "display_name": "Python 3",
   "language": "python",
   "name": "python3"
  },
  "language_info": {
   "codemirror_mode": {
    "name": "ipython",
    "version": 3
   },
   "file_extension": ".py",
   "mimetype": "text/x-python",
   "name": "python",
   "nbconvert_exporter": "python",
   "pygments_lexer": "ipython3",
   "version": "3.8.3"
  }
 },
 "nbformat": 4,
 "nbformat_minor": 4
}
