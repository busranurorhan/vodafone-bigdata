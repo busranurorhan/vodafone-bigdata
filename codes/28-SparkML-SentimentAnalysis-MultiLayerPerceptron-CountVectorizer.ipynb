{
 "cells": [
  {
   "cell_type": "code",
   "execution_count": 43,
   "metadata": {},
   "outputs": [
    {
     "name": "stdout",
     "output_type": "stream",
     "text": [
      "0.9026461538461539\n"
     ]
    }
   ],
   "source": [
    "from pyspark.sql import SparkSession\n",
    "from pyspark.ml.feature import Tokenizer,CountVectorizer\n",
    "from pyspark.ml.classification import MultilayerPerceptronClassifier\n",
    "from pyspark.ml.evaluation import BinaryClassificationEvaluator\n",
    "from pyspark.sql.functions import UserDefinedFunction\n",
    "from pyspark.sql.types import StringType\n",
    "\n",
    "spark = SparkSession.Builder().appName('SparkML Sentiment Analysis').getOrCreate()\n",
    "yorumDF = spark.read.option('inferSchema','true')\\\n",
    "                        .option('header','false')\\\n",
    "                        .option('delimiter','\\t').csv('datasets/movie_turkish_train.txt')\n",
    "yorumDF = yorumDF.withColumnRenamed('_c0','cumle')\n",
    "yorumDF = yorumDF.withColumnRenamed('_c1','label')\n",
    "\n",
    "def fixCumle(cumle):\n",
    "    cumle = cumle.replace('1','bir')\n",
    "    #cumle = cumle.replace('.','')\n",
    "    #cumle = cumle.replace('(','')\n",
    "    #cumle = cumle.replace(')','')\n",
    "    #cumle = cumle.strip()\n",
    "    #cumle = cumle.replace('filmi','film')\n",
    "    return cumle\n",
    "\n",
    "fixTextUDF = UserDefinedFunction(fixCumle,StringType())\n",
    "yorumDF = yorumDF.withColumn('cumle2',fixTextUDF('cumle'))\n",
    "\n",
    "tknzr = Tokenizer(inputCol='cumle2',outputCol='tokenized')\n",
    "yorumDF = tknzr.transform(yorumDF)\n",
    "#yorumDF.show()\n",
    "\n",
    "kelimeSayisi = 3500\n",
    "vectorizer = CountVectorizer(inputCol='tokenized',outputCol='features',vocabSize=kelimeSayisi)\n",
    "vecModel = vectorizer.fit(yorumDF)\n",
    "\n",
    "yorumDF = vecModel.transform(yorumDF)\n",
    "\n",
    "yorumDF = yorumDF.select('features','label')\n",
    "trainDF,testDF = yorumDF.randomSplit([0.75,0.25],seed=1234)\n",
    "\n",
    "classifer = MultilayerPerceptronClassifier(layers=[kelimeSayisi,200,2])\n",
    "\n",
    "model = classifer.fit(trainDF)\n",
    "sonucDF = model.transform(testDF)\n",
    "\n",
    "eva = BinaryClassificationEvaluator()\n",
    "basari = eva.evaluate(sonucDF)\n",
    "print(basari)"
   ]
  },
  {
   "cell_type": "code",
   "execution_count": 11,
   "metadata": {},
   "outputs": [
    {
     "name": "stdout",
     "output_type": "stream",
     "text": [
      "+--------------------+--------------------+--------------------+\n",
      "|               cumle|           tokenized|            features|\n",
      "+--------------------+--------------------+--------------------+\n",
      "| bu film çok kötüydü|[bu, film, çok, k...|(7563,[1,2,3,350]...|\n",
      "|     berbat bir film| [berbat, bir, film]|(7563,[0,1,68],[1...|\n",
      "|bundan daha güzel...|[bundan, daha, gü...|(7563,[13,376,161...|\n",
      "| fena bir film değil|[fena, bir, film,...|(7563,[0,1,400],[...|\n",
      "|çok kötü bir film...|[çok, kötü, bir, ...|(7563,[0,1,2,19,4...|\n",
      "+--------------------+--------------------+--------------------+\n",
      "\n",
      "+--------------------+----------+\n",
      "|               cumle|prediction|\n",
      "+--------------------+----------+\n",
      "| bu film çok kötüydü|       0.0|\n",
      "|     berbat bir film|       0.0|\n",
      "|bundan daha güzel...|       1.0|\n",
      "| fena bir film değil|       0.0|\n",
      "|çok kötü bir film...|       0.0|\n",
      "+--------------------+----------+\n",
      "\n"
     ]
    }
   ],
   "source": [
    "yeniDF = spark.read.option('inferSchema','true')\\\n",
    "                        .option('header','false')\\\n",
    "                        .option('delimiter','\\t').csv('datasets/deneme-yorum.txt')\n",
    "yeniDF = yeniDF.withColumnRenamed('_c0','cumle')\n",
    "yeniDF = tknzr.transform(yeniDF)\n",
    "yeniDF = vecModel.transform(yeniDF)\n",
    "yeniDF.show()\n",
    "yeniYorumSonucDF = model.transform(yeniDF)\n",
    "yeniYorumSonucDF.select('cumle','prediction').show()"
   ]
  },
  {
   "cell_type": "code",
   "execution_count": null,
   "metadata": {},
   "outputs": [],
   "source": []
  }
 ],
 "metadata": {
  "kernelspec": {
   "display_name": "Python 3",
   "language": "python",
   "name": "python3"
  },
  "language_info": {
   "codemirror_mode": {
    "name": "ipython",
    "version": 3
   },
   "file_extension": ".py",
   "mimetype": "text/x-python",
   "name": "python",
   "nbconvert_exporter": "python",
   "pygments_lexer": "ipython3",
   "version": "3.8.3"
  }
 },
 "nbformat": 4,
 "nbformat_minor": 4
}
