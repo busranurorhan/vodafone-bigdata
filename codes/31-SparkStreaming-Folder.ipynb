{
 "cells": [
  {
   "cell_type": "code",
   "execution_count": null,
   "metadata": {},
   "outputs": [],
   "source": [
    "from pyspark.sql import SparkSession\n",
    "from pyspark.ml.feature import VectorAssembler,StringIndexer\n",
    "from pyspark.ml.classification import RandomForestClassifier\n",
    "from pyspark.ml.evaluation import MulticlassClassificationEvaluator\n",
    "\n",
    "irisDF = spark.read\\\n",
    "                .option('inferSchema','true')\\\n",
    "                .option('header','true')\\\n",
    "                .option('delimiter',',').csv('datasets/iris-dataset.txt')\n",
    "vec = VectorAssembler(inputCols=irisDF.columns[0:4],outputCol='features')\n",
    "irisDF = vec.transform(irisDF)\n",
    "indexer = StringIndexer(inputCol='class',outputCol='label')\n",
    "indexModel = indexer.fit(irisDF)\n",
    "irisDF = indexModel.transform(irisDF)\n",
    "#irisDF.show()\n",
    "irisDF = irisDF.select('features','label')\n",
    "\n",
    "trainDF, testDF = irisDF.randomSplit([0.75,0.25],seed=1234)\n",
    "\n",
    "classifier = RandomForestClassifier()\n",
    "model = classifier.fit(trainDF)\n",
    "model.save('savedModel')\n",
    "\n",
    "resultDF = model.transform(testDF)\n",
    "resultDF.show()\n",
    "\n",
    "eva = MulticlassClassificationEvaluator(metricName='accuracy') \n",
    "accuracy = eva.evaluate(resultDF)\n",
    "print(\"Model Accuracy : \",accuracy)"
   ]
  },
  {
   "cell_type": "code",
   "execution_count": null,
   "metadata": {},
   "outputs": [],
   "source": [
    "from pyspark.sql import SparkSession\n",
    "from pyspark.sql.types import StructType,StringType,IntegerType\n",
    "from pyspark.ml.classification import RandomForestClassificationModel\n",
    "from pyspark.ml.feature import VectorAssembler, StringIndexer, StringIndexerModel,PCAModel\n",
    "spark = SparkSession.builder.getOrCreate()\n",
    "\n",
    "logSchema = StructType().add('sepal-length','float')\\\n",
    "                        .add('sepal-width','float')\\\n",
    "                        .add('petal-length','float')\\\n",
    "                        .add('petal-width','float')\\\n",
    "                        .add('class','string')\n",
    "\n",
    "\n",
    "#log klasörünü dinlemeye başlıyoruz\n",
    "irisDF = spark.readStream.option(\"sep\", \",\").schema(logSchema).csv(\"logs\")\n",
    "vec = VectorAssembler(inputCols=['sepal-length','sepal-width','petal-length','petal-width'],outputCol='features')\n",
    "\n",
    "irisDF = vec.transform(irisDF)\n",
    "\n",
    "model = RandomForestClassificationModel.load('irisModel')\n",
    "resultDF = model.transform(irisDF)\n",
    "resultDF = resultDF.select('features','class','prediction')\n",
    "\n",
    "query = resultDF.writeStream.outputMode(\"update\").format(\"console\").start()\n",
    "query.awaitTermination()\n"
   ]
  },
  {
   "cell_type": "code",
   "execution_count": null,
   "metadata": {},
   "outputs": [],
   "source": []
  }
 ],
 "metadata": {
  "kernelspec": {
   "display_name": "Python 3",
   "language": "python",
   "name": "python3"
  },
  "language_info": {
   "codemirror_mode": {
    "name": "ipython",
    "version": 3
   },
   "file_extension": ".py",
   "mimetype": "text/x-python",
   "name": "python",
   "nbconvert_exporter": "python",
   "pygments_lexer": "ipython3",
   "version": "3.8.3"
  }
 },
 "nbformat": 4,
 "nbformat_minor": 4
}
