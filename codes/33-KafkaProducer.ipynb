{
 "cells": [
  {
   "cell_type": "code",
   "execution_count": 11,
   "metadata": {},
   "outputs": [
    {
     "data": {
      "text/plain": [
       "<kafka.producer.future.FutureRecordMetadata at 0x7fb2bfca1cd0>"
      ]
     },
     "execution_count": 11,
     "metadata": {},
     "output_type": "execute_result"
    }
   ],
   "source": [
    "#https://pypi.org/project/kafka-python/\n",
    "#Bu kodu çalıştırmadan önce kafka-python install edilmelidir\n",
    "#pip install kafka-python\n",
    "from kafka import KafkaProducer\n",
    "producer = KafkaProducer(bootstrap_servers='localhost:9092')\n",
    "producer.send(\"covid\",\"Covid bitti\".encode('utf8'))\n",
    "\n",
    "#Before running code\n",
    "    #Start Zookeper and Kafka Server\n",
    "        #bin/zookeeper-server-start.sh config/zookeeper.properties\n",
    "        #bin/kafka-server-start.sh config/server.properties\n",
    "    #Create a Kafka Topic\n",
    "        #bin/kafka-topics.sh --create --zookeeper localhost:2181 --replication-factor 1 --partitions 1 --topic covid     "
   ]
  }
 ],
 "metadata": {
  "kernelspec": {
   "display_name": "Python 3",
   "language": "python",
   "name": "python3"
  },
  "language_info": {
   "codemirror_mode": {
    "name": "ipython",
    "version": 3
   },
   "file_extension": ".py",
   "mimetype": "text/x-python",
   "name": "python",
   "nbconvert_exporter": "python",
   "pygments_lexer": "ipython3",
   "version": "3.8.3"
  }
 },
 "nbformat": 4,
 "nbformat_minor": 4
}
