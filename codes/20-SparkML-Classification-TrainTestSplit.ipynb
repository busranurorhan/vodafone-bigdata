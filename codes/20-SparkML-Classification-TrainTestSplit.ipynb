{
 "cells": [
  {
   "cell_type": "code",
   "execution_count": 2,
   "metadata": {},
   "outputs": [
    {
     "name": "stdout",
     "output_type": "stream",
     "text": [
      "Makine öğrendi\n",
      "Accuracy :  0.9696969696969697\n"
     ]
    }
   ],
   "source": [
    "from pyspark.sql import SparkSession\n",
    "from pyspark.ml.feature import StringIndexer, VectorAssembler\n",
    "from pyspark.ml.classification import RandomForestClassifier\n",
    "from pyspark.ml.evaluation import MulticlassClassificationEvaluator\n",
    "\n",
    "spark = SparkSession.Builder().appName('Spark DataFrame Introduction').getOrCreate()\n",
    "irisDF = spark.read.option('inferSchema','true')\\\n",
    "                        .option('header','true')\\\n",
    "                        .option('delimiter',',').csv('datasets/iris-dataset.txt')\n",
    "\n",
    "indexer = StringIndexer(inputCol='class',outputCol='label')\n",
    "indexerModel = indexer.fit(irisDF) \n",
    "                            \n",
    "irisDF = indexerModel.transform(irisDF)\n",
    "vec =VectorAssembler(inputCols=['sepal-length', 'sepal-width', 'petal-length', 'petal-width'],outputCol='features')\n",
    "irisDF = vec.transform(irisDF)\n",
    "irisDF = irisDF.select('features','label')\n",
    "trainDF, testDF = irisDF.randomSplit([0.75,0.25],seed=123)\n",
    "classifier = RandomForestClassifier()\n",
    "model = classifier.fit(trainDF) #Makine Öğrenmesini yapıldığı satır. Buna Model Training adı verilir.\n",
    "print(\"Makine öğrendi\")\n",
    "\n",
    "#testDF.show()\n",
    "resultDF = model.transform(testDF) #Prediction\n",
    "#resultDF.show()\n",
    "\n",
    "eva = MulticlassClassificationEvaluator(metricName='accuracy')\n",
    "result = eva.evaluate(resultDF)\n",
    "print(\"Accuracy : \",result)"
   ]
  },
  {
   "cell_type": "code",
   "execution_count": null,
   "metadata": {},
   "outputs": [],
   "source": []
  }
 ],
 "metadata": {
  "kernelspec": {
   "display_name": "Python 3",
   "language": "python",
   "name": "python3"
  },
  "language_info": {
   "codemirror_mode": {
    "name": "ipython",
    "version": 3
   },
   "file_extension": ".py",
   "mimetype": "text/x-python",
   "name": "python",
   "nbconvert_exporter": "python",
   "pygments_lexer": "ipython3",
   "version": "3.8.3"
  }
 },
 "nbformat": 4,
 "nbformat_minor": 4
}
