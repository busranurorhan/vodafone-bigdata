{
 "cells": [
  {
   "cell_type": "code",
   "execution_count": 62,
   "metadata": {},
   "outputs": [
    {
     "name": "stdout",
     "output_type": "stream",
     "text": [
      "[array([ 6.5, 10.8]), array([16.6,  6.7]), array([16.6, 16.7])]\n"
     ]
    },
    {
     "data": {
      "image/png": "[encoded data removed]",
      "text/plain": [
       "<Figure size 432x288 with 1 Axes>"
      ]
     },
     "metadata": {
      "needs_background": "light"
     },
     "output_type": "display_data"
    },
    {
     "name": "stdout",
     "output_type": "stream",
     "text": [
      "Silhouette : 0.7174663301885214\n"
     ]
    }
   ],
   "source": [
    "from pyspark.sql import SparkSession\n",
    "from pyspark.ml.feature import VectorAssembler\n",
    "from pyspark.ml.clustering import KMeans\n",
    "from pyspark.ml.evaluation import ClusteringEvaluator\n",
    "\n",
    "import matplotlib.pyplot as plt\n",
    "spark = SparkSession.Builder().appName('SparkML Clustering').getOrCreate()\n",
    "pointsDF = spark.read.option('inferSchema','true')\\\n",
    "                        .option('header','false')\\\n",
    "                        .option('delimiter',',').csv('datasets/points.txt')\n",
    "pointsDF = pointsDF.withColumnRenamed('_c0','x')\n",
    "pointsDF = pointsDF.withColumnRenamed('_c1','y')\n",
    "vec = VectorAssembler(inputCols=['x','y'],outputCol='features')\n",
    "pointsDF = vec.transform(pointsDF)\n",
    "k = 4\n",
    "km = KMeans().setK(k)\n",
    "model = km.fit(pointsDF)\n",
    "print(model.clusterCenters())\n",
    "pointsDF = model.transform(pointsDF) #Her noktayı bulmuş olduğumuz cluster center a atamasını yapıyoruz\n",
    "for a in range(k):\n",
    "    x = pointsDF.filter(pointsDF['prediction']==a).select('x').rdd.flatMap(lambda x : list(x)).collect()\n",
    "    y = pointsDF.filter(pointsDF['prediction']==a).select('y').rdd.flatMap(lambda x : list(x)).collect()\n",
    "    plt.scatter(x,y)\n",
    "#x = pointsDF.toPandas()['x']\n",
    "#y = pointsDF.toPandas()['y']\n",
    "centers = model.clusterCenters()\n",
    "for x in range(k):\n",
    "    plt.scatter(centers[x][0],centers[x][1])\n",
    "plt.show()\n",
    "#silhouette değer bize noktaların yerinden memnun olup olmadıklarını söyler!!\n",
    "eva = ClusteringEvaluator()\n",
    "silhouetteValue = eva.evaluate(pointsDF)\n",
    "print(\"Silhouette :\",silhouetteValue)"
   ]
  },
  {
   "cell_type": "code",
   "execution_count": null,
   "metadata": {},
   "outputs": [],
   "source": []
  }
 ],
 "metadata": {
  "kernelspec": {
   "display_name": "Python 3",
   "language": "python",
   "name": "python3"
  },
  "language_info": {
   "codemirror_mode": {
    "name": "ipython",
    "version": 3
   },
   "file_extension": ".py",
   "mimetype": "text/x-python",
   "name": "python",
   "nbconvert_exporter": "python",
   "pygments_lexer": "ipython3",
   "version": "3.8.3"
  }
 },
 "nbformat": 4,
 "nbformat_minor": 4
}
