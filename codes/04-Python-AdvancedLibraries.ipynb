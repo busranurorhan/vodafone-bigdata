{
 "cells": [
  {
   "cell_type": "code",
   "execution_count": 1,
   "metadata": {},
   "outputs": [],
   "source": [
    "#NumPy                      --> Hızlı ve esnek array işlemleri için\n",
    "#Pandas                     --> Tablo yapısında veri işleme için\n",
    "#Sci-kit Learn              --> Makine Öğrenmesi Algoritmaları\n",
    "#Mathplotlib / Seaborn      --> Veri görselleştirme için (Her türlü grafik çizilebilir)"
   ]
  },
  {
   "cell_type": "code",
   "execution_count": 9,
   "metadata": {},
   "outputs": [
    {
     "name": "stdout",
     "output_type": "stream",
     "text": [
      "[1, 2, 3, 4, 1, 2, 3, 4, 1, 2, 3, 4]\n"
     ]
    }
   ],
   "source": [
    "#Numpy   (Hafızadan kazandıran ve hızlı işlemler yapmamızı sağlayan veri yapıları)\n",
    "a = [1,2,3,4]\n",
    "b = [11,21,31,41]\n",
    "\n",
    "a2 = a * 3\n",
    "print(a2)\n",
    "\n"
   ]
  },
  {
   "cell_type": "code",
   "execution_count": 14,
   "metadata": {},
   "outputs": [
    {
     "name": "stdout",
     "output_type": "stream",
     "text": [
      "[2 4 6 8]\n",
      "[ 11  42  93 164]\n"
     ]
    }
   ],
   "source": [
    "import numpy as np\n",
    "#Toplu matematik işlemlerini hızlı bir şekilde yapabiliyoruz\n",
    "numpyA = np.array(a)\n",
    "numpyB = np.array(b)\n",
    "\n",
    "ikiKat = numpyA * 2\n",
    "print(ikiKat)\n",
    "\n",
    "print(numpyA*numpyB)"
   ]
  },
  {
   "cell_type": "code",
   "execution_count": 15,
   "metadata": {},
   "outputs": [
    {
     "name": "stdout",
     "output_type": "stream",
     "text": [
      "Before Reshape\n",
      "[1 2 3 4]\n",
      "(4,)\n",
      "After Reshape\n",
      "[[1 2]\n",
      " [3 4]]\n",
      "(2, 2)\n"
     ]
    }
   ],
   "source": [
    "print(\"Before Reshape\")\n",
    "print(numpyA)\n",
    "print(numpyA.shape)\n",
    "numpyA = numpyA.reshape(2,2)\n",
    "print(\"After Reshape\")\n",
    "print(numpyA)\n",
    "print(numpyA.shape)"
   ]
  },
  {
   "cell_type": "code",
   "execution_count": 16,
   "metadata": {},
   "outputs": [
    {
     "name": "stdout",
     "output_type": "stream",
     "text": [
      "[ 0  1  2  3  4  5  6  7  8  9 10 11 12 13 14 15 16 17 18 19 20 21 22 23\n",
      " 24 25 26 27 28 29 30 31 32 33 34 35 36 37 38 39 40 41 42 43 44 45 46 47\n",
      " 48 49 50 51 52 53 54 55 56 57 58 59 60 61 62 63 64 65 66 67 68 69 70 71\n",
      " 72 73 74 75 76 77 78 79 80 81 82 83 84 85 86 87 88 89 90 91 92 93 94 95\n",
      " 96 97 98 99]\n"
     ]
    }
   ],
   "source": [
    "sayilar = np.array(range(100))\n",
    "print(sayilar)\n"
   ]
  },
  {
   "cell_type": "code",
   "execution_count": 19,
   "metadata": {},
   "outputs": [
    {
     "name": "stdout",
     "output_type": "stream",
     "text": [
      "[[ 0  1  2  3  4  5  6  7  8  9]\n",
      " [10 11 12 13 14 15 16 17 18 19]\n",
      " [20 21 22 23 24 25 26 27 28 29]\n",
      " [30 31 32 33 34 35 36 37 38 39]\n",
      " [40 41 42 43 44 45 46 47 48 49]\n",
      " [50 51 52 53 54 55 56 57 58 59]\n",
      " [60 61 62 63 64 65 66 67 68 69]\n",
      " [70 71 72 73 74 75 76 77 78 79]\n",
      " [80 81 82 83 84 85 86 87 88 89]\n",
      " [90 91 92 93 94 95 96 97 98 99]]\n"
     ]
    }
   ],
   "source": [
    "print(sayilar.reshape(10,10))"
   ]
  },
  {
   "cell_type": "code",
   "execution_count": 18,
   "metadata": {},
   "outputs": [
    {
     "name": "stdout",
     "output_type": "stream",
     "text": [
      "[[[ 0  1  2  3  4  5  6  7  8  9]\n",
      "  [10 11 12 13 14 15 16 17 18 19]\n",
      "  [20 21 22 23 24 25 26 27 28 29]\n",
      "  [30 31 32 33 34 35 36 37 38 39]\n",
      "  [40 41 42 43 44 45 46 47 48 49]]\n",
      "\n",
      " [[50 51 52 53 54 55 56 57 58 59]\n",
      "  [60 61 62 63 64 65 66 67 68 69]\n",
      "  [70 71 72 73 74 75 76 77 78 79]\n",
      "  [80 81 82 83 84 85 86 87 88 89]\n",
      "  [90 91 92 93 94 95 96 97 98 99]]]\n"
     ]
    }
   ],
   "source": [
    "print(sayilar.reshape(2,5,10)) # Tensor ( 3 ve daha fazla boyutu olan matris)"
   ]
  },
  {
   "cell_type": "code",
   "execution_count": 22,
   "metadata": {},
   "outputs": [
    {
     "name": "stdout",
     "output_type": "stream",
     "text": [
      "[[0 1 2]\n",
      " [3 4 5]\n",
      " [6 7 8]]\n"
     ]
    }
   ],
   "source": [
    "m1 = np.array(range(0,9))\n",
    "m1 = m1.reshape(3,3)\n",
    "print(m1)"
   ]
  },
  {
   "cell_type": "code",
   "execution_count": 23,
   "metadata": {},
   "outputs": [
    {
     "name": "stdout",
     "output_type": "stream",
     "text": [
      "[[10 11 12]\n",
      " [13 14 15]\n",
      " [16 17 18]]\n"
     ]
    }
   ],
   "source": [
    "m2 = np.array(range(10,19))\n",
    "m2 = m2.reshape(3,3)\n",
    "print(m2)"
   ]
  },
  {
   "cell_type": "code",
   "execution_count": 25,
   "metadata": {},
   "outputs": [
    {
     "name": "stdout",
     "output_type": "stream",
     "text": [
      "[[ 45  48  51]\n",
      " [162 174 186]\n",
      " [279 300 321]]\n"
     ]
    }
   ],
   "source": [
    "m3 = np.matmul(m1,m2)\n",
    "print(m3)"
   ]
  },
  {
   "cell_type": "code",
   "execution_count": 26,
   "metadata": {},
   "outputs": [
    {
     "name": "stdout",
     "output_type": "stream",
     "text": [
      "[ 45  48  51 162 174 186 279 300 321]\n"
     ]
    }
   ],
   "source": [
    "#Kolay Filtreleme\n",
    "m3 = m3.reshape(9,)\n",
    "print(m3)"
   ]
  },
  {
   "cell_type": "code",
   "execution_count": 27,
   "metadata": {},
   "outputs": [
    {
     "name": "stdout",
     "output_type": "stream",
     "text": [
      "[279 300 321]\n"
     ]
    }
   ],
   "source": [
    "buyukSayilar = m3[m3>200]\n",
    "print(buyukSayilar)"
   ]
  },
  {
   "cell_type": "code",
   "execution_count": 47,
   "metadata": {},
   "outputs": [
    {
     "name": "stdout",
     "output_type": "stream",
     "text": [
      "(40, 2)\n",
      "[ 5.  5. 15. 17. 15. 16.  5.  6.  6.  6. 16. 16.  8.  8.  7.  6. 17. 17.\n",
      "  6.  7.  7.  8. 18. 18.  8.  6. 17. 16.  5.  8. 17. 16.  8.  8. 16. 17.\n",
      " 17. 18. 18. 16.  5. 15. 15.  7. 15.  6.  5. 16.  6. 16. 16.  6.  8. 18.\n",
      "  7. 16. 17.  7.  6.  7.  7.  8. 18.  8.  8. 16. 17.  6.  5. 18. 17.  6.\n",
      "  8. 18. 16.  7. 17.  8. 18.  6.]\n",
      "[ 5.  5. 15. 17. 15.  5.  7. 17. 17.  7.  7. 17.  5. 17. 17. 17.  5. 15.\n",
      " 15.  7. 15.  5.  7. 17.  7.  7.  7. 17.  5. 17.  7. 17.]\n"
     ]
    }
   ],
   "source": [
    "points = np.loadtxt('datasets/points.txt',delimiter=',')\n",
    "print(points.shape)\n",
    "a = points.reshape(80)\n",
    "print(a)\n",
    "print(a[a%2==1])"
   ]
  },
  {
   "cell_type": "code",
   "execution_count": 46,
   "metadata": {},
   "outputs": [
    {
     "data": {
      "text/plain": [
       "array([ True,  True,  True,  True,  True, False,  True, False, False,\n",
       "       False, False, False, False, False,  True, False,  True,  True,\n",
       "       False,  True,  True, False, False, False, False, False,  True,\n",
       "       False,  True, False,  True, False, False, False, False,  True,\n",
       "        True, False, False, False,  True,  True,  True,  True,  True,\n",
       "       False,  True, False, False, False, False, False, False, False,\n",
       "        True, False,  True,  True, False,  True,  True, False, False,\n",
       "       False, False, False,  True, False,  True, False,  True, False,\n",
       "       False, False, False,  True,  True, False, False, False])"
      ]
     },
     "execution_count": 46,
     "metadata": {},
     "output_type": "execute_result"
    }
   ],
   "source": [
    "a%2==1"
   ]
  },
  {
   "cell_type": "code",
   "execution_count": 39,
   "metadata": {},
   "outputs": [
    {
     "name": "stdout",
     "output_type": "stream",
     "text": [
      "[33]\n",
      "[11 22 33]\n"
     ]
    }
   ],
   "source": [
    "#Advanced Indexing & Fancy indexing\n",
    "f = np.array([11,22,33])\n",
    "g = f[[False,False,True]]\n",
    "print(g)\n",
    "print(f)"
   ]
  },
  {
   "cell_type": "code",
   "execution_count": 50,
   "metadata": {},
   "outputs": [
    {
     "name": "stdout",
     "output_type": "stream",
     "text": [
      "[[  0   2   4   6   8  10  12  14  16  18]\n",
      " [ 20  22  24  26  28  30  32  34  36  38]\n",
      " [ 40  42  44  46  48  50  52  54  56  58]\n",
      " [ 60  62  64  66  68  70  72  74  76  78]\n",
      " [ 80  82  84  86  88  90  92  94  96  98]\n",
      " [100 102 104 106 108 110 112 114 116 118]\n",
      " [120 122 124 126 128 130 132 134 136 138]\n",
      " [140 142 144 146 148 150 152 154 156 158]\n",
      " [160 162 164 166 168 170 172 174 176 178]\n",
      " [180 182 184 186 188 190 192 194 196 198]]\n"
     ]
    }
   ],
   "source": [
    "r = np.arange(0,200,2)\n",
    "r = r.reshape(10,10)\n",
    "print(r)"
   ]
  },
  {
   "cell_type": "code",
   "execution_count": 53,
   "metadata": {},
   "outputs": [
    {
     "name": "stdout",
     "output_type": "stream",
     "text": [
      "[ 0  2  4  6  8 10 12 14 16 18]\n"
     ]
    }
   ],
   "source": [
    "print(r[0,:])"
   ]
  },
  {
   "cell_type": "code",
   "execution_count": 54,
   "metadata": {},
   "outputs": [
    {
     "name": "stdout",
     "output_type": "stream",
     "text": [
      "[20 22 24 26 28 30 32 34 36 38]\n"
     ]
    }
   ],
   "source": [
    "print(r[1,:])"
   ]
  },
  {
   "cell_type": "code",
   "execution_count": 57,
   "metadata": {},
   "outputs": [
    {
     "name": "stdout",
     "output_type": "stream",
     "text": [
      "[  4  24  44  64  84 104 124 144 164 184]\n"
     ]
    }
   ],
   "source": [
    "print(r[:,2])"
   ]
  },
  {
   "cell_type": "code",
   "execution_count": 58,
   "metadata": {},
   "outputs": [
    {
     "name": "stdout",
     "output_type": "stream",
     "text": [
      "[[  0   4   8  12  16]\n",
      " [ 20  24  28  32  36]\n",
      " [ 40  44  48  52  56]\n",
      " [ 60  64  68  72  76]\n",
      " [ 80  84  88  92  96]\n",
      " [100 104 108 112 116]\n",
      " [120 124 128 132 136]\n",
      " [140 144 148 152 156]\n",
      " [160 164 168 172 176]\n",
      " [180 184 188 192 196]]\n"
     ]
    }
   ],
   "source": [
    "print(r[:,0::2])"
   ]
  },
  {
   "cell_type": "code",
   "execution_count": 60,
   "metadata": {},
   "outputs": [
    {
     "name": "stdout",
     "output_type": "stream",
     "text": [
      "[38 36 34 32 30 28 26 24 22 20]\n"
     ]
    }
   ],
   "source": [
    "print(r[1,][::-1])"
   ]
  },
  {
   "cell_type": "code",
   "execution_count": 61,
   "metadata": {},
   "outputs": [
    {
     "name": "stdout",
     "output_type": "stream",
     "text": [
      "[1 2 3 4 5]\n",
      "[5 4 3 2 1]\n"
     ]
    }
   ],
   "source": [
    "a = np.array([1,2,3,4,5])\n",
    "print(a)\n",
    "print(a[::-1]) #Reverse array"
   ]
  },
  {
   "cell_type": "code",
   "execution_count": 66,
   "metadata": {},
   "outputs": [
    {
     "name": "stdout",
     "output_type": "stream",
     "text": [
      "56\n",
      "2\n",
      "24.875\n",
      "18.472530281474707\n"
     ]
    }
   ],
   "source": [
    "g = np.array([12,12,43,54,56,54,3,23,2,32,3,23,2,33,23,23])\n",
    "print(g.max())\n",
    "print(g.min())\n",
    "print(g.mean())\n",
    "print(g.std())"
   ]
  },
  {
   "cell_type": "code",
   "execution_count": 90,
   "metadata": {},
   "outputs": [
    {
     "name": "stdout",
     "output_type": "stream",
     "text": [
      "662292883\n"
     ]
    }
   ],
   "source": [
    "world = np.loadtxt('datasets/world.txt',delimiter=',',dtype='str')\n",
    "a1 = world[world[:,1]=='Europe']   #Önce ikinci kolon ( birinci index) teki değeri 'Europe' olanları seçiyoruz\n",
    "a2 = a1[:,-1]                      #Sonra seçilen Avrupa ülkelerinin sacece son kolonu( nüfus bilgisi) alıyoruz\n",
    "a3 = a2.astype('int')              #Daha sonra string değerleri int (tamsayı ya) döüştürüyoruz\n",
    "toplam = a3.sum()                  #En son tüm elemanları topluyoruz\n",
    "print(\"Avrupanın nüfusu : \",toplam)   "
   ]
  },
  {
   "cell_type": "code",
   "execution_count": 91,
   "metadata": {},
   "outputs": [
    {
     "name": "stdout",
     "output_type": "stream",
     "text": [
      "Asya nüfus 3982554409\n"
     ]
    }
   ],
   "source": [
    "print(\"Asya nüfus\", world[world[:,1]=='Asia'][:,-1].astype('int').sum()   )"
   ]
  },
  {
   "cell_type": "code",
   "execution_count": 93,
   "metadata": {},
   "outputs": [
    {
     "name": "stdout",
     "output_type": "stream",
     "text": [
      "Okyanusya nüfus 32018861\n"
     ]
    }
   ],
   "source": [
    "print(\"Okyanusya nüfus\", world[world[:,1]=='Oceana'][:,-1].astype('int').sum()   )"
   ]
  },
  {
   "cell_type": "code",
   "execution_count": 96,
   "metadata": {},
   "outputs": [
    {
     "name": "stdout",
     "output_type": "stream",
     "text": [
      "Kuzey Amerika nüfus 511265886\n"
     ]
    }
   ],
   "source": [
    "print(\"Kuzey Amerika nüfus\", world[world[:,1]=='North America'][:,-1].astype('int').sum()   )"
   ]
  },
  {
   "cell_type": "code",
   "execution_count": null,
   "metadata": {},
   "outputs": [],
   "source": []
  }
 ],
 "metadata": {
  "kernelspec": {
   "display_name": "Python 3",
   "language": "python",
   "name": "python3"
  },
  "language_info": {
   "codemirror_mode": {
    "name": "ipython",
    "version": 3
   },
   "file_extension": ".py",
   "mimetype": "text/x-python",
   "name": "python",
   "nbconvert_exporter": "python",
   "pygments_lexer": "ipython3",
   "version": "3.8.3"
  }
 },
 "nbformat": 4,
 "nbformat_minor": 4
}
