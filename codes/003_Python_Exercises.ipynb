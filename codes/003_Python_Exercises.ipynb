{
  "nbformat": 4,
  "nbformat_minor": 0,
  "metadata": {
    "colab": {
      "name": "003-Python-Exercises.ipynb",
      "provenance": []
    },
    "kernelspec": {
      "name": "python3",
      "display_name": "Python 3"
    },
    "language_info": {
      "name": "python"
    }
  },
  "cells": [
    {
      "cell_type": "code",
      "metadata": {
        "id": "Zzz4iKTgQmfq",
        "colab": {
          "base_uri": "https://localhost:8080/"
        },
        "outputId": "7d788d60-00ed-4a99-fa45-12ad5b7553bf"
      },
      "source": [
        "file = open(\"world.txt\",\"r\")\n",
        "satirlar = file.readlines()\n",
        "#Kötü kod\n",
        "asiaCount = 0\n",
        "europeCount = 0\n",
        "africaCount = 0\n",
        "oceaniaCount = 0\n",
        "northAmericaCount = 0\n",
        "southAmericaCount = 0\n",
        "antarticaCount = 0\n",
        "for satir in satirlar:\n",
        "  if \"Asia\" in satir:\n",
        "    #print(\"Asya -> \", satir)\n",
        "    asiaCount = asiaCount + 1\n",
        "  elif \"Europe\" in satir :\n",
        "    europeCount = europeCount + 1\n",
        "  elif \"Africa\" in satir :\n",
        "    africaCount = africaCount + 1\n",
        "print(\"Asyadaki ülke sayısı : \", asiaCount)\n",
        "print(\"Avrupadaki ülke sayısı : \", europeCount)\n",
        "print(\"Afrikadaki ülke sayısı : \", africaCount)"
      ],
      "execution_count": 14,
      "outputs": [
        {
          "output_type": "stream",
          "text": [
            "Asyadaki ülke sayısı :  49\n",
            "Avrupadaki ülke sayısı :  46\n",
            "Afrikadaki ülke sayısı :  55\n"
          ],
          "name": "stdout"
        }
      ]
    },
    {
      "cell_type": "code",
      "metadata": {
        "colab": {
          "base_uri": "https://localhost:8080/"
        },
        "id": "kxvpmC4tcgnt",
        "outputId": "aea40c88-d465-4070-aa2b-06241c5cd486"
      },
      "source": [
        "#Hangi kıtada kaç ülke var sorusuna cevap arıyoruz !!!!!!\n",
        "file = open(\"world.txt\",\"r\")\n",
        "satirlar = file.readlines()\n",
        "kitalar = dict()\n",
        "#Önce kıtaların isimlerinin olduğu bir dictionary yaratıyoruz. \n",
        "#Başta değeleri 0 a eşitliyoruz\n",
        "for satir in satirlar :\n",
        "  info = satir.split(\",\")\n",
        "  kitalar[info[1]] = 0\n",
        "print(kitalar)\n",
        "\n",
        "for satir in satirlar :\n",
        "  for kita in kitalar:\n",
        "    if kita in satir:\n",
        "      kitalar[kita] = kitalar[kita] + 1\n",
        "\n",
        "kitalar[\"Antartica\"] = 0\n",
        "print(kitalar)\n",
        "\n",
        "# 1) Kıtaların nüfuslarını hesaplayın\n",
        "# 2) En kalabalık ülke ve en tenha ülkeleri ve nüfuslarını yazdırınız\n",
        "# 3) Her kıtanın en kalabalık ülkesini yazdırınız"
      ],
      "execution_count": 28,
      "outputs": [
        {
          "output_type": "stream",
          "text": [
            "{'Asia': 0, 'Europe': 0, 'Africa': 0, 'North America': 0, 'South America': 0, 'Oceana': 0}\n",
            "{'Asia': 49, 'Europe': 46, 'Africa': 55, 'North America': 23, 'South America': 12, 'Oceana': 13, 'Antartica': 0}\n"
          ],
          "name": "stdout"
        }
      ]
    },
    {
      "cell_type": "code",
      "metadata": {
        "colab": {
          "base_uri": "https://localhost:8080/"
        },
        "id": "AgYMz5Fcd2dc",
        "outputId": "aa75e62e-1bcd-494f-a6f5-4df36bf840e2"
      },
      "source": [
        "#Hangi kıtada kaç kaç kişi yaşıyor sorusuna cevap arıyoruz !!!!!!\n",
        "file = open(\"world.txt\",\"r\")\n",
        "satirlar = file.readlines()\n",
        "kitalar = dict()\n",
        "for satir in satirlar :\n",
        "  info = satir.split(\",\")\n",
        "  kitalar[info[1]] = 0\n",
        "print(kitalar)\n",
        "\n",
        "for satir in satirlar :\n",
        "  for kita in kitalar:\n",
        "    if kita in satir:\n",
        "      info2 = satir.split(\",\")\n",
        "      nufus = int(info2[3])\n",
        "      kitalar[kita] = kitalar[kita] + nufus\n",
        "print(kitalar)"
      ],
      "execution_count": 36,
      "outputs": [
        {
          "output_type": "stream",
          "text": [
            "{'Asia': 0, 'Europe': 0, 'Africa': 0, 'North America': 0, 'South America': 0, 'Oceana': 0}\n",
            "{'Asia': 3982554409, 'Europe': 662292883, 'Africa': 908406750, 'North America': 511265886, 'South America': 374997087, 'Oceana': 32018861}\n"
          ],
          "name": "stdout"
        }
      ]
    },
    {
      "cell_type": "code",
      "metadata": {
        "colab": {
          "base_uri": "https://localhost:8080/"
        },
        "id": "lMbOVT11rSu9",
        "outputId": "1c757ec8-9702-42a3-ed8c-c9026426f279"
      },
      "source": [
        "#En kalabalık ülkeyi buluyoruz\n",
        "file = open(\"world.txt\",\"r\")\n",
        "satirlar = file.readlines()\n",
        "enKalabalikUlke = \"Ahmet\"\n",
        "enKalabalikNufus = 0\n",
        "\n",
        "for satir in satirlar :\n",
        "  info = satir.split(\",\")\n",
        "  ulke = info[0]\n",
        "  nufus = int( info[3] )\n",
        "  if (nufus > enKalabalikNufus):\n",
        "    enKalabalikUlke = ulke\n",
        "    enKalabalikNufus = nufus\n",
        "\n",
        "print(\"En kalabalık Ülke : \",enKalabalikUlke , \" Nüfus : \",enKalabalikNufus)\n",
        "\n"
      ],
      "execution_count": 37,
      "outputs": [
        {
          "output_type": "stream",
          "text": [
            "En kalbalık Ülke :  China People's Republic of  Nüfus :  1315844000\n"
          ],
          "name": "stdout"
        }
      ]
    },
    {
      "cell_type": "code",
      "metadata": {
        "colab": {
          "base_uri": "https://localhost:8080/"
        },
        "id": "XpFyD429s-Li",
        "outputId": "a98698b9-f272-489c-bdc7-bee896456e99"
      },
      "source": [
        "#En kalabalık ülkeyi buluyoruz\n",
        "file = open(\"world.txt\",\"r\")\n",
        "satirlar = file.readlines()\n",
        "enTenhaUlke = \"Mahmut\"\n",
        "enTenhaNufus = 4000000000 #Çük büyük bir sayı giriyoruz\n",
        "\n",
        "for satir in satirlar :\n",
        "  info = satir.split(\",\")\n",
        "  ulke = info[0]\n",
        "  nufus = int( info[3] )\n",
        "  if (nufus < enTenhaNufus):\n",
        "    enTenhaUlke = ulke\n",
        "    enTenhaNufus = nufus\n",
        "\n",
        "print(\"En kalabalık Ülke : \",enTenhaUlke , \" Nüfus : \",enTenhaNufus)\n",
        "#Çalışma ödevi : iki sonucuda bir tek for döngüsünde hesaplatmaya çalışalım"
      ],
      "execution_count": 42,
      "outputs": [
        {
          "output_type": "stream",
          "text": [
            "En kalabalık Ülke :  South Ossetia  Nüfus :  70\n"
          ],
          "name": "stdout"
        }
      ]
    },
    {
      "cell_type": "code",
      "metadata": {
        "colab": {
          "base_uri": "https://localhost:8080/"
        },
        "id": "occLeEs-t8ri",
        "outputId": "4bce6ef7-3826-4aa9-bf6b-f50d769ebcb6"
      },
      "source": [
        "#Her kıtanın en kalabalık ülkesini bulunuz\n",
        "file = open(\"world.txt\",\"r\")\n",
        "satirlar = file.readlines()\n",
        "kitalar = dict()\n",
        "for satir in satirlar :\n",
        "  info = satir.split(\",\")\n",
        "  kitalar[info[1]] = 0\n",
        "print(kitalar)\n",
        "\n",
        "cevap = list() #Boş liste oluşturuyoruz\n",
        "for kita in kitalar:\n",
        "  cevap.append([kita,\"Ahmet\",0])\n",
        "\n",
        "for satir in satirlar:\n",
        "  info = satir.split(',')\n",
        "  nufus  = int (info[3])\n",
        "  ulke = info[0]\n",
        "  for item in cevap:\n",
        "    if (item[0] in satir):\n",
        "      if (nufus > item[2]):\n",
        "        item[1] = ulke\n",
        "        item [2] = nufus\n",
        "cevap\n",
        "#En önemli kod.!! Bu kodu anlamak demek. Bundan sonra (programlama ile ilgili) hiç problem yaşamayacaksınız demektir"
      ],
      "execution_count": 53,
      "outputs": [
        {
          "output_type": "stream",
          "text": [
            "{'Asia': 0, 'Europe': 0, 'Africa': 0, 'North America': 0, 'South America': 0, 'Oceana': 0}\n",
            "[['Asia', 'Ahmet', 0], ['Europe', 'Ahmet', 0], ['Africa', 'Ahmet', 0], ['North America', 'Ahmet', 0], ['South America', 'Ahmet', 0], ['Oceana', 'Ahmet', 0]]\n"
          ],
          "name": "stdout"
        },
        {
          "output_type": "execute_result",
          "data": {
            "text/plain": [
              "[['Asia', \"China People's Republic of\", 1315844000],\n",
              " ['Europe', 'Germany', 82689210],\n",
              " ['Africa', 'Nigeria', 131529700],\n",
              " ['North America', 'United States', 298212900],\n",
              " ['South America', 'Brazil', 186404900],\n",
              " ['Oceana', 'Australia', 20155130]]"
            ]
          },
          "metadata": {
            "tags": []
          },
          "execution_count": 53
        }
      ]
    }
  ]
}