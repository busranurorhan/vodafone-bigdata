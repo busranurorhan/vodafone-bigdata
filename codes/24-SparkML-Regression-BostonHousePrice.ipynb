{
 "cells": [
  {
   "cell_type": "code",
   "execution_count": 26,
   "metadata": {},
   "outputs": [
    {
     "name": "stdout",
     "output_type": "stream",
     "text": [
      "+-------+----+-----+----+-----+-----+-----+------+---+---+-------+------+-----+-----+\n",
      "|   crim|  zn|indus|chas|  nox|   rm|  age|   dis|rad|tax|ptratio|     b|lstat|label|\n",
      "+-------+----+-----+----+-----+-----+-----+------+---+---+-------+------+-----+-----+\n",
      "|0.00632|18.0| 2.31|   0|0.538|6.575| 65.2|  4.09|  1|296|   15.3| 396.9| 4.98| 24.0|\n",
      "|0.02731| 0.0| 7.07|   0|0.469|6.421| 78.9|4.9671|  2|242|   17.8| 396.9| 9.14| 21.6|\n",
      "|0.02729| 0.0| 7.07|   0|0.469|7.185| 61.1|4.9671|  2|242|   17.8|392.83| 4.03| 34.7|\n",
      "|0.03237| 0.0| 2.18|   0|0.458|6.998| 45.8|6.0622|  3|222|   18.7|394.63| 2.94| 33.4|\n",
      "|0.06905| 0.0| 2.18|   0|0.458|7.147| 54.2|6.0622|  3|222|   18.7| 396.9| 5.33| 36.2|\n",
      "|0.02985| 0.0| 2.18|   0|0.458| 6.43| 58.7|6.0622|  3|222|   18.7|394.12| 5.21| 28.7|\n",
      "|0.08829|12.5| 7.87|   0|0.524|6.012| 66.6|5.5605|  5|311|   15.2| 395.6|12.43| 22.9|\n",
      "|0.14455|12.5| 7.87|   0|0.524|6.172| 96.1|5.9505|  5|311|   15.2| 396.9|19.15| 27.1|\n",
      "|0.21124|12.5| 7.87|   0|0.524|5.631|100.0|6.0821|  5|311|   15.2|386.63|29.93| 16.5|\n",
      "|0.17004|12.5| 7.87|   0|0.524|6.004| 85.9|6.5921|  5|311|   15.2|386.71| 17.1| 18.9|\n",
      "|0.22489|12.5| 7.87|   0|0.524|6.377| 94.3|6.3467|  5|311|   15.2|392.52|20.45| 15.0|\n",
      "|0.11747|12.5| 7.87|   0|0.524|6.009| 82.9|6.2267|  5|311|   15.2| 396.9|13.27| 18.9|\n",
      "|0.09378|12.5| 7.87|   0|0.524|5.889| 39.0|5.4509|  5|311|   15.2| 390.5|15.71| 21.7|\n",
      "|0.62976| 0.0| 8.14|   0|0.538|5.949| 61.8|4.7075|  4|307|   21.0| 396.9| 8.26| 20.4|\n",
      "|0.63796| 0.0| 8.14|   0|0.538|6.096| 84.5|4.4619|  4|307|   21.0|380.02|10.26| 18.2|\n",
      "|0.62739| 0.0| 8.14|   0|0.538|5.834| 56.5|4.4986|  4|307|   21.0|395.62| 8.47| 19.9|\n",
      "|1.05393| 0.0| 8.14|   0|0.538|5.935| 29.3|4.4986|  4|307|   21.0|386.85| 6.58| 23.1|\n",
      "| 0.7842| 0.0| 8.14|   0|0.538| 5.99| 81.7|4.2579|  4|307|   21.0|386.75|14.67| 17.5|\n",
      "|0.80271| 0.0| 8.14|   0|0.538|5.456| 36.6|3.7965|  4|307|   21.0|288.99|11.69| 20.2|\n",
      "| 0.7258| 0.0| 8.14|   0|0.538|5.727| 69.5|3.7965|  4|307|   21.0|390.95|11.28| 18.2|\n",
      "+-------+----+-----+----+-----+-----+-----+------+---+---+-------+------+-----+-----+\n",
      "only showing top 20 rows\n",
      "\n",
      "RMSE :  5.548774729209858\n"
     ]
    }
   ],
   "source": [
    "#Boston House pricing verisetinde cross validation yaparaak en iyi LinearRegrression parametrelerini bulacağız.\n",
    "from pyspark.sql import SparkSession\n",
    "from pyspark.ml.feature import StringIndexer, VectorAssembler\n",
    "from pyspark.ml.regression import LinearRegression\n",
    "from pyspark.ml.evaluation import RegressionEvaluator\n",
    "from pyspark.ml.tuning import CrossValidator,ParamGridBuilder\n",
    "spark = SparkSession.Builder().appName('Spark DataFrame Introduction').getOrCreate()\n",
    "houseDF = spark.read.option('inferSchema','true')\\\n",
    "                        .option('header','true')\\\n",
    "                        .option('delimiter',',').csv('datasets/boston-house-prices.txt')\n",
    "houseDF = houseDF.withColumnRenamed('medv','label')\n",
    "houseDF.show()\n",
    "#houseDF.describe().show()\n",
    "vec = VectorAssembler(inputCols=houseDF.columns[0:-1],outputCol='features')\n",
    "houseDF=vec.transform(houseDF)\n",
    "houseDF = houseDF.select('features','label')\n",
    "#houseDF.show(truncate=False)\n",
    "lr = LinearRegression()\n",
    "trainDF, testDF = houseDF.randomSplit([0.8,0.2])\n",
    "model = lr.fit(trainDF)\n",
    "resultDF = model.transform(testDF)\n",
    "eva = RegressionEvaluator(metricName='rmse')\n",
    "res = eva.evaluate(resultDF)\n",
    "print('RMSE : ',res)"
   ]
  },
  {
   "cell_type": "code",
   "execution_count": 25,
   "metadata": {},
   "outputs": [
    {
     "name": "stdout",
     "output_type": "stream",
     "text": [
      "Best Model hesaplandı\n",
      "Best maxIter :  5\n",
      "Best elasticNetParam :  0.1\n",
      "Accuracy of the best model  3.952468980908394\n"
     ]
    }
   ],
   "source": [
    "#Boston House pricing verisetinde cross validation yaparaak en iyi LinearRegrression parametrelerini bulacağız.\n",
    "from pyspark.sql import SparkSession\n",
    "from pyspark.ml.feature import StringIndexer, VectorAssembler\n",
    "from pyspark.ml.regression import LinearRegression\n",
    "from pyspark.ml.evaluation import RegressionEvaluator\n",
    "from pyspark.ml.tuning import CrossValidator,ParamGridBuilder\n",
    "spark = SparkSession.Builder().appName('Spark DataFrame Introduction').getOrCreate()\n",
    "houseDF = spark.read.option('inferSchema','true')\\\n",
    "                        .option('header','true')\\\n",
    "                        .option('delimiter',',').csv('datasets/boston-house-prices.txt')\n",
    "houseDF = houseDF.withColumnRenamed('medv','label')\n",
    "#houseDF.describe().show()\n",
    "vec = VectorAssembler(inputCols=houseDF.columns[0:-1],outputCol='features')\n",
    "houseDF=vec.transform(houseDF)\n",
    "houseDF = houseDF.select('features','label')\n",
    "trainDF, testDF = houseDF.randomSplit([0.8,0.2],seed=123)\n",
    "\n",
    "lr = LinearRegression()\n",
    "eva = RegressionEvaluator(metricName='rmse')\n",
    "myParams = ParamGridBuilder().addGrid(lr.maxIter,[5,6,7])\\\n",
    "                    .addGrid(lr.elasticNetParam,[0.1,0.2,0.3]).build()\n",
    "validator = CrossValidator(parallelism=4, \n",
    "                                 estimator=lr,\n",
    "                                 estimatorParamMaps=myParams,\n",
    "                                 evaluator=eva,\n",
    "                                 numFolds=5)\n",
    "model = validator.fit(trainDF)\n",
    "print(\"Best Model hesaplandı\")\n",
    "print(\"Best maxIter : \", model.bestModel.getMaxIter())\n",
    "print(\"Best elasticNetParam : \", model.bestModel.getElasticNetParam())\n",
    "\n",
    "resultDF = model.transform(testDF)\n",
    "result = eva.evaluate(resultDF)\n",
    "print(\"Accuracy of the best model \",result)"
   ]
  },
  {
   "cell_type": "code",
   "execution_count": null,
   "metadata": {},
   "outputs": [],
   "source": []
  }
 ],
 "metadata": {
  "kernelspec": {
   "display_name": "Python 3",
   "language": "python",
   "name": "python3"
  },
  "language_info": {
   "codemirror_mode": {
    "name": "ipython",
    "version": 3
   },
   "file_extension": ".py",
   "mimetype": "text/x-python",
   "name": "python",
   "nbconvert_exporter": "python",
   "pygments_lexer": "ipython3",
   "version": "3.8.3"
  }
 },
 "nbformat": 4,
 "nbformat_minor": 4
}
