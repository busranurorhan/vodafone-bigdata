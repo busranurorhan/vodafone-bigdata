{
 "cells": [
  {
   "cell_type": "code",
   "execution_count": 1,
   "metadata": {},
   "outputs": [],
   "source": [
    "#Haftason çalışma ödevi : https://gelecegiyazanlar.turkcell.com.tr/konu/egitim/python-programlama-101/pythona-giris\n",
    "#Veya tutorial takip etmek isteyenler için (DateTime konusuna kadar) : https://www.tutorialspoint.com/python/python_date_time.htm\n",
    "\n",
    "#Bir programlama diline hızlıca hakim olabilmek için şu 4 maddeyi sırasıyla öğrenmeliyiz\n",
    "# 1- ) Değişken tanımlama ve tip dönüşümleri (int,float,string,bool)\n",
    "ad = \"Ahmet\"\n",
    "soyad = \"Demirelli\"\n",
    "no = 123"
   ]
  },
  {
   "cell_type": "code",
   "execution_count": 5,
   "metadata": {},
   "outputs": [
    {
     "name": "stdout",
     "output_type": "stream",
     "text": [
      "9.1\n"
     ]
    }
   ],
   "source": [
    "x = '5.6'\n",
    "y = '3.5'\n",
    "\n",
    "z = float(x) + float(y) # tip dönüşümü float() , int() ,str() , bool\n",
    "\n",
    "print(z)\n",
    "\n"
   ]
  },
  {
   "cell_type": "code",
   "execution_count": 7,
   "metadata": {},
   "outputs": [
    {
     "name": "stdout",
     "output_type": "stream",
     "text": [
      "433\n",
      "100333\n"
     ]
    }
   ],
   "source": [
    "a = 100\n",
    "b = 333\n",
    "\n",
    "print(a+b)\n",
    "print(str(a) + str(b))"
   ]
  },
  {
   "cell_type": "code",
   "execution_count": 13,
   "metadata": {},
   "outputs": [
    {
     "name": "stdout",
     "output_type": "stream",
     "text": [
      "<class 'str'>\n",
      "55.6\n"
     ]
    }
   ],
   "source": [
    "c = \"55.6\"\n",
    "print(type(c))\n",
    "\n",
    "tamSayi = float(c)\n",
    "print(tamSayi)"
   ]
  },
  {
   "cell_type": "code",
   "execution_count": 17,
   "metadata": {},
   "outputs": [
    {
     "name": "stdout",
     "output_type": "stream",
     "text": [
      "\"    Ahmet's house   \"\n"
     ]
    }
   ],
   "source": [
    "print(\"\\\"    Ahmet's house   \\\"\")"
   ]
  },
  {
   "cell_type": "code",
   "execution_count": 20,
   "metadata": {},
   "outputs": [
    {
     "name": "stdout",
     "output_type": "stream",
     "text": [
      "Adınız : ahmmet\n",
      " Sizin adınız  ahmmet  mı ?\n"
     ]
    }
   ],
   "source": [
    "# 2- ) Kontrol yapıları ve döngüler (if, for , while)\n",
    "ad = input(\"Adınız : \")\n",
    "print(\" Sizin adınız \", ad , \" mı ?\")"
   ]
  },
  {
   "cell_type": "code",
   "execution_count": 29,
   "metadata": {},
   "outputs": [
    {
     "name": "stdout",
     "output_type": "stream",
     "text": [
      "Lütfen bir sayı giriniz : 123\n",
      "100 den büyük veya eşit bir değer girdiniz \n"
     ]
    }
   ],
   "source": [
    "sayi = input(\"Lütfen bir sayı giriniz : \")\n",
    "\n",
    "sayi = int(sayi) #Python Input box a girilen değerlerin hepsini string olarak okuyor. Burada dönüşüm yapıyoruz\n",
    "if (sayi >= 100):\n",
    "    print(\"100 den büyük veya eşit bir değer girdiniz \")\n",
    "else:\n",
    "    print(\"100 den daha küçük bir değer girdiniz \")"
   ]
  },
  {
   "cell_type": "code",
   "execution_count": 39,
   "metadata": {},
   "outputs": [
    {
     "name": "stdout",
     "output_type": "stream",
     "text": [
      "Lütfen bir sayı giriniz : 23\n",
      "30 ile 20 arasında (20 dahil)\n"
     ]
    }
   ],
   "source": [
    "sayi = input(\"Lütfen bir sayı giriniz : \")\n",
    "sayi = int(sayi)\n",
    "\n",
    "if (sayi <= 10):\n",
    "    print(\"10 dan küçük\")\n",
    "elif (sayi <= 20):\n",
    "    print(\"20 ile 10 arasında (10 dahil)\")\n",
    "elif (sayi <= 30 ):\n",
    "    print(\"30 ile 20 arasında (20 dahil)\")\n",
    "else:\n",
    "    print(\"30 dan büyük\")"
   ]
  },
  {
   "cell_type": "code",
   "execution_count": 40,
   "metadata": {},
   "outputs": [
    {
     "name": "stdout",
     "output_type": "stream",
     "text": [
      "0\n",
      "1\n",
      "2\n",
      "3\n",
      "4\n",
      "5\n",
      "6\n",
      "7\n",
      "8\n",
      "9\n"
     ]
    }
   ],
   "source": [
    "#for (feor each) döngüsü\n",
    "\n",
    "sayilar = [0,1,2,3,4,5,6,7,8,9]\n",
    "\n",
    "for s in sayilar: #for each iteration (for gezinmesi)\n",
    "    print(s)\n",
    "\n",
    "   "
   ]
  },
  {
   "cell_type": "code",
   "execution_count": 44,
   "metadata": {},
   "outputs": [
    {
     "name": "stdout",
     "output_type": "stream",
     "text": [
      "Ahmet\n",
      "Ahmet\n",
      "Ahmet\n",
      "Ahmet\n",
      "bitti\n"
     ]
    }
   ],
   "source": [
    "x = 1\n",
    "while ( x < 5 ):\n",
    "    print(\"Ahmet\")\n",
    "    x  = x + 1\n",
    "print(\"bitti\")"
   ]
  },
  {
   "cell_type": "code",
   "execution_count": 46,
   "metadata": {},
   "outputs": [],
   "source": [
    "#3- ) Method yazma ve çağırma\n",
    "# Bakış açısı 1 --> Tekrar tekrar aynı işleri yapmamak için kod bloğuna bir isim verip başka yerlerden çağırabilmek mümkün\n",
    "#Tanımlana o kod bloğuna method (fonksiyon) diyoruz\n",
    "def bilgiYaz():\n",
    "    print(\"ahmet\")\n",
    "    print(\"demirelli\")\n",
    "    print(\"123\")"
   ]
  },
  {
   "cell_type": "code",
   "execution_count": 48,
   "metadata": {},
   "outputs": [
    {
     "name": "stdout",
     "output_type": "stream",
     "text": [
      "ahmet\n",
      "demirelli\n",
      "123\n"
     ]
    }
   ],
   "source": [
    "bilgiYaz() #fonksiyon (method) çağırmak"
   ]
  },
  {
   "cell_type": "code",
   "execution_count": 49,
   "metadata": {},
   "outputs": [
    {
     "name": "stdout",
     "output_type": "stream",
     "text": [
      "ahmet\n",
      "demirelli\n",
      "123\n"
     ]
    }
   ],
   "source": [
    "bilgiYaz()"
   ]
  },
  {
   "cell_type": "code",
   "execution_count": 50,
   "metadata": {},
   "outputs": [
    {
     "name": "stdout",
     "output_type": "stream",
     "text": [
      "Sonuç :  13\n"
     ]
    }
   ],
   "source": [
    "# Bakış açısı 2 --> f(x) = 2*x + 3  \n",
    "# f (5) = 13\n",
    "\n",
    "def f (x) :\n",
    "    return 2 * x + 3\n",
    "\n",
    "a = f(5)\n",
    "print(\"Sonuç : \",a)"
   ]
  },
  {
   "cell_type": "code",
   "execution_count": 53,
   "metadata": {},
   "outputs": [
    {
     "name": "stdout",
     "output_type": "stream",
     "text": [
      "15.0\n"
     ]
    }
   ],
   "source": [
    "def ucgenAlanHesapla(tabanUzunluk, yukseklik):\n",
    "    alan =  (tabanUzunluk * yukseklik) / 2\n",
    "    return alan\n",
    "\n",
    "\n",
    "area = ucgenAlanHesapla(5,6)\n",
    "print(area)"
   ]
  },
  {
   "cell_type": "code",
   "execution_count": 64,
   "metadata": {},
   "outputs": [
    {
     "name": "stdout",
     "output_type": "stream",
     "text": [
      "[1, 2, 3, 4, 5, 6, 7, 8, 9, 5, 5, 5, 5, 5]\n",
      "9\n",
      "[1, 2, 3, 4, 5, 6, 7, 8, 9, 5, 5, 5, 5, 5, 33]\n",
      "[1, 2, 3, 4, 6, 7, 8, 9, 5, 5, 5, 5, 5, 33]\n",
      "[2, 3, 4, 6, 7, 8, 9, 5, 5, 5, 5, 5, 33]\n",
      "12\n",
      "[]\n"
     ]
    }
   ],
   "source": [
    "# 4- ) Öğrenilmek istenilen dile ait hazır veri yapıları (list,set, tuple, dict)\n",
    "\n",
    "#list\n",
    "numbers =  [1,2,3,4,5,6,7,8,9,5,5,5,5,5] #list( range(1,10) )\n",
    "print(numbers)\n",
    "\n",
    "print(numbers[8]) #index numarassı ile istediğimiz elemana ulaşabiliyoruz\n",
    "\n",
    "numbers.append(33) #yeni eleman ekleyebiliyoruz\n",
    "\n",
    "print(numbers)\n",
    "\n",
    "numbers.remove(5) # elaman silebiliyoruz !önemli! ilk bulduğu 5 sayını silecek diğerleri kalacak\n",
    "print(numbers)\n",
    "\n",
    "del(numbers[0]) #istediğimiz index teki elemanı silme\n",
    "print(numbers)\n",
    "\n",
    "nerede = numbers.index(33)\n",
    "print(nerede)\n",
    "\n",
    "numbers.clear()\n",
    "\n",
    "print(numbers)"
   ]
  },
  {
   "cell_type": "code",
   "execution_count": 66,
   "metadata": {},
   "outputs": [
    {
     "name": "stdout",
     "output_type": "stream",
     "text": [
      "{1, 5}\n"
     ]
    }
   ],
   "source": [
    "#set --> list in aynısı tek farkı elemanların tekil olması (unique)\n",
    "#eklediğimiz elemanlar eklenildikleri sırayla tutulmayabilir\n",
    "#index ile ulaşılamaz\n",
    "\n",
    "numberSet =  {1,5,5,5,5,5}\n",
    "print(numberSet)"
   ]
  },
  {
   "cell_type": "code",
   "execution_count": 72,
   "metadata": {},
   "outputs": [
    {
     "name": "stdout",
     "output_type": "stream",
     "text": [
      "{1, 3, 5, 'ahmet'}\n",
      "{1, 3, 5}\n",
      "set()\n"
     ]
    }
   ],
   "source": [
    "numberSet.add(3)\n",
    "numberSet.add(\"ahmet\")\n",
    "print(numberSet)\n",
    "numberSet.remove(\"ahmet\")\n",
    "print(numberSet)\n",
    "numberSet.clear()\n",
    "print(numberSet)\n",
    "\n",
    "\n",
    "numberList = "
   ]
  },
  {
   "cell_type": "code",
   "execution_count": 73,
   "metadata": {},
   "outputs": [
    {
     "name": "stdout",
     "output_type": "stream",
     "text": [
      "Set  {1, 5}\n",
      "[1, 5, 5, 5, 5]\n"
     ]
    }
   ],
   "source": [
    "numberSet =  {1,5,5,5,5,5}\n",
    "print(\"Set \", numberSet)\n",
    "\n",
    "numberList = list(numberSet) # set i list e dönüştürüyoruz\n",
    "numberList.append(5)\n",
    "numberList.append(5)\n",
    "numberList.append(5)\n",
    "print(numberList)\n"
   ]
  },
  {
   "cell_type": "code",
   "execution_count": 78,
   "metadata": {},
   "outputs": [
    {
     "name": "stdout",
     "output_type": "stream",
     "text": [
      "(1, 2, 3, 3, 3, 3)\n",
      "[1, 2, 129, 3, 3, 3]\n"
     ]
    }
   ],
   "source": [
    "#tuple list ile aynıdır. Tek farkı değiştirilemez olmassıdır (immutable)\n",
    "numberTuple =  (1,2,3,3,3,3)\n",
    "print(numberTuple)\n",
    "#numberTuple.append(34) # eleman eklenemez\n",
    "#numberTuple.add(34)\n",
    "\n",
    "#numberTuple.remove(3)# eleman çıkarılamaz\n",
    "\n",
    "#numberTuple[3] = 45 # hiç bir elemanın değeri değiştirilemez\n",
    "\n",
    "degisebilir = list(numberTuple)\n",
    "degisebilir[2] = 129\n",
    "print(degisebilir)"
   ]
  },
  {
   "cell_type": "code",
   "execution_count": 83,
   "metadata": {},
   "outputs": [
    {
     "name": "stdout",
     "output_type": "stream",
     "text": [
      "apple\n",
      "manzana\n",
      "{'elma': 'manzana', 'muz': 'banana'}\n"
     ]
    }
   ],
   "source": [
    "#dict - key-value ikilisi şeklinde\n",
    "\n",
    "sozluk = { \"elma\":\"apple\", \"muz\":\"banana\",\"armut\":\"pear\"  }\n",
    "print(sozluk[\"elma\"])\n",
    "\n",
    "sozluk[\"elma\"] = \"manzana\" # eğer key zaten varsa yeni eklemez mevcut değerin üstüne yazar\n",
    "print(sozluk[\"elma\"])\n",
    "\n",
    "del(sozluk[\"armut\"])\n",
    "print(sozluk)\n",
    "\n"
   ]
  },
  {
   "cell_type": "code",
   "execution_count": 84,
   "metadata": {},
   "outputs": [
    {
     "name": "stdout",
     "output_type": "stream",
     "text": [
      "Adana  -- >  1\n",
      "Adıyaman  -- >  2\n",
      "Afyonkarahisar  -- >  3\n"
     ]
    }
   ],
   "source": [
    "sehirler = {\"Adana\",\"Adıyaman\",\"Afyonkarahisar\"}\n",
    "plakalar = [1,2,3]\n",
    "\n",
    "for i in range(3):\n",
    "    print(sehirler[i], \" -- > \", plakalar[i])"
   ]
  },
  {
   "cell_type": "code",
   "execution_count": 85,
   "metadata": {},
   "outputs": [
    {
     "name": "stdout",
     "output_type": "stream",
     "text": [
      "Adana  -->  1\n",
      "Adıyaman  -->  2\n",
      "Afyonkarahisar  -->  3\n"
     ]
    }
   ],
   "source": [
    "sehirVePlaka = {\"Adana\":1,\"Adıyaman\":2,\"Afyonkarahisar\":3}\n",
    "\n",
    "for sehir in sehirVePlaka:\n",
    "    print(sehir, \" --> \", sehirVePlaka[sehir])"
   ]
  },
  {
   "cell_type": "code",
   "execution_count": null,
   "metadata": {},
   "outputs": [],
   "source": []
  }
 ],
 "metadata": {
  "kernelspec": {
   "display_name": "Python 3",
   "language": "python",
   "name": "python3"
  },
  "language_info": {
   "codemirror_mode": {
    "name": "ipython",
    "version": 3
   },
   "file_extension": ".py",
   "mimetype": "text/x-python",
   "name": "python",
   "nbconvert_exporter": "python",
   "pygments_lexer": "ipython3",
   "version": "3.8.3"
  }
 },
 "nbformat": 4,
 "nbformat_minor": 4
}
