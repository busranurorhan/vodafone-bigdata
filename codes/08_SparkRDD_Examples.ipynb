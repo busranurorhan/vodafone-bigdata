{
  "nbformat": 4,
  "nbformat_minor": 0,
  "metadata": {
    "colab": {
      "name": "08-SparkRDD-Examples.ipynb",
      "provenance": []
    },
    "kernelspec": {
      "name": "python3",
      "display_name": "Python 3"
    },
    "language_info": {
      "name": "python"
    }
  },
  "cells": [
    {
      "cell_type": "code",
      "metadata": {
        "colab": {
          "base_uri": "https://localhost:8080/"
        },
        "id": "PWWLPjLoZj9X",
        "outputId": "60b3f0d6-eb6f-419d-aed9-9f635dadd031"
      },
      "source": [
        "!apt-get update\n",
        "!apt-get install openjdk-8-jdk-headless -qq > /dev/null\n",
        "import os\n",
        "os.environ[\"JAVA_HOME\"] = \"/usr/lib/jvm/java-8-openjdk-amd64\"\n",
        "!update-alternatives --set java /usr/lib/jvm/java-8-openjdk-amd64/jre/bin/java\n",
        "!java -version\n",
        "!pip install pyspark"
      ],
      "execution_count": 1,
      "outputs": [
        {
          "output_type": "stream",
          "text": [
            "\r0% [Working]\r            \rGet:1 https://cloud.r-project.org/bin/linux/ubuntu bionic-cran40/ InRelease [3,626 B]\n",
            "\r0% [Connecting to archive.ubuntu.com (91.189.88.152)] [Waiting for headers] [1 \r0% [Connecting to archive.ubuntu.com (91.189.88.152)] [Waiting for headers] [Co\r0% [1 InRelease gpgv 3,626 B] [Connecting to archive.ubuntu.com (91.189.88.152)\r                                                                               \rIgn:2 https://developer.download.nvidia.com/compute/cuda/repos/ubuntu1804/x86_64  InRelease\n",
            "\r0% [1 InRelease gpgv 3,626 B] [Connecting to archive.ubuntu.com (91.189.88.152)\r                                                                               \rGet:3 http://security.ubuntu.com/ubuntu bionic-security InRelease [88.7 kB]\n",
            "\r0% [1 InRelease gpgv 3,626 B] [Waiting for headers] [3 InRelease 14.2 kB/88.7 k\r                                                                               \rIgn:4 https://developer.download.nvidia.com/compute/machine-learning/repos/ubuntu1804/x86_64  InRelease\n",
            "\r0% [1 InRelease gpgv 3,626 B] [Waiting for headers] [3 InRelease 14.2 kB/88.7 k\r                                                                               \rGet:5 https://developer.download.nvidia.com/compute/cuda/repos/ubuntu1804/x86_64  Release [697 B]\n",
            "\r0% [1 InRelease gpgv 3,626 B] [Waiting for headers] [3 InRelease 14.2 kB/88.7 k\r                                                                               \rHit:6 https://developer.download.nvidia.com/compute/machine-learning/repos/ubuntu1804/x86_64  Release\n",
            "Get:7 https://developer.download.nvidia.com/compute/cuda/repos/ubuntu1804/x86_64  Release.gpg [836 B]\n",
            "Get:8 http://ppa.launchpad.net/c2d4u.team/c2d4u4.0+/ubuntu bionic InRelease [15.9 kB]\n",
            "Hit:9 http://archive.ubuntu.com/ubuntu bionic InRelease\n",
            "Get:10 http://archive.ubuntu.com/ubuntu bionic-updates InRelease [88.7 kB]\n",
            "Get:11 https://cloud.r-project.org/bin/linux/ubuntu bionic-cran40/ Packages [62.9 kB]\n",
            "Hit:12 http://ppa.launchpad.net/cran/libgit2/ubuntu bionic InRelease\n",
            "Get:14 http://archive.ubuntu.com/ubuntu bionic-backports InRelease [74.6 kB]\n",
            "Get:15 http://ppa.launchpad.net/deadsnakes/ppa/ubuntu bionic InRelease [15.9 kB]\n",
            "Ign:16 https://developer.download.nvidia.com/compute/cuda/repos/ubuntu1804/x86_64  Packages\n",
            "Get:16 https://developer.download.nvidia.com/compute/cuda/repos/ubuntu1804/x86_64  Packages [695 kB]\n",
            "Get:17 http://ppa.launchpad.net/graphics-drivers/ppa/ubuntu bionic InRelease [21.3 kB]\n",
            "Get:18 http://security.ubuntu.com/ubuntu bionic-security/restricted amd64 Packages [510 kB]\n",
            "Get:19 http://security.ubuntu.com/ubuntu bionic-security/main amd64 Packages [2,263 kB]\n",
            "Get:20 http://security.ubuntu.com/ubuntu bionic-security/multiverse amd64 Packages [26.7 kB]\n",
            "Get:21 http://security.ubuntu.com/ubuntu bionic-security/universe amd64 Packages [1,420 kB]\n",
            "Get:22 http://ppa.launchpad.net/c2d4u.team/c2d4u4.0+/ubuntu bionic/main Sources [1,786 kB]\n",
            "Get:23 http://archive.ubuntu.com/ubuntu bionic-updates/restricted amd64 Packages [544 kB]\n",
            "Get:24 http://ppa.launchpad.net/c2d4u.team/c2d4u4.0+/ubuntu bionic/main amd64 Packages [914 kB]\n",
            "Get:25 http://archive.ubuntu.com/ubuntu bionic-updates/main amd64 Packages [2,698 kB]\n",
            "Get:26 http://archive.ubuntu.com/ubuntu bionic-updates/universe amd64 Packages [2,195 kB]\n",
            "Get:27 http://archive.ubuntu.com/ubuntu bionic-updates/multiverse amd64 Packages [39.4 kB]\n",
            "Get:28 http://ppa.launchpad.net/deadsnakes/ppa/ubuntu bionic/main amd64 Packages [40.9 kB]\n",
            "Get:29 http://ppa.launchpad.net/graphics-drivers/ppa/ubuntu bionic/main amd64 Packages [44.1 kB]\n",
            "Fetched 13.5 MB in 6s (2,405 kB/s)\n",
            "Reading package lists... Done\n",
            "update-alternatives: using /usr/lib/jvm/java-8-openjdk-amd64/jre/bin/java to provide /usr/bin/java (java) in manual mode\n",
            "openjdk version \"1.8.0_292\"\n",
            "OpenJDK Runtime Environment (build 1.8.0_292-8u292-b10-0ubuntu1~18.04-b10)\n",
            "OpenJDK 64-Bit Server VM (build 25.292-b10, mixed mode)\n",
            "Collecting pyspark\n",
            "  Downloading pyspark-3.1.2.tar.gz (212.4 MB)\n",
            "\u001b[K     |████████████████████████████████| 212.4 MB 62 kB/s \n",
            "\u001b[?25hCollecting py4j==0.10.9\n",
            "  Downloading py4j-0.10.9-py2.py3-none-any.whl (198 kB)\n",
            "\u001b[K     |████████████████████████████████| 198 kB 52.3 MB/s \n",
            "\u001b[?25hBuilding wheels for collected packages: pyspark\n",
            "  Building wheel for pyspark (setup.py) ... \u001b[?25l\u001b[?25hdone\n",
            "  Created wheel for pyspark: filename=pyspark-3.1.2-py2.py3-none-any.whl size=212880768 sha256=63cf2a737f58a4f6d8e935a2f1f1e10df9e3ca6716b36943286fb1069a4ff7a2\n",
            "  Stored in directory: /root/.cache/pip/wheels/a5/0a/c1/9561f6fecb759579a7d863dcd846daaa95f598744e71b02c77\n",
            "Successfully built pyspark\n",
            "Installing collected packages: py4j, pyspark\n",
            "Successfully installed py4j-0.10.9 pyspark-3.1.2\n"
          ],
          "name": "stdout"
        }
      ]
    },
    {
      "cell_type": "code",
      "metadata": {
        "colab": {
          "base_uri": "https://localhost:8080/"
        },
        "id": "TpISrqcGZ-WU",
        "outputId": "10120edb-9962-466f-cdb5-6ed8b60e5d93"
      },
      "source": [
        "#DepremVerileri.txt dosyasında 1900 yılından günümüze kadar olan 3.5 üzeri büyüklükteki\n",
        "#Yaklaşık 17857 deprem vardır.\n",
        "#DepremVerileri.txt dosyasından enlem,boylam, xM (büyüklük) ve Yer bilgilerini alıyoruz\n",
        "#enlem, boylam, xM, Yer\n",
        "from pyspark import SparkContext\n",
        "sc = SparkContext.getOrCreate()\n",
        "depremRDD = sc.textFile(\"DepremVerileri.txt\")\n",
        "depremRDD = depremRDD.filter(lambda line : \"Deprem Kodu\" not in line)\n",
        "def splitAndTake(line):\n",
        "  arr = line.split(\"\\t\")\n",
        "  enlem = float(arr[4])\n",
        "  boylam = float(arr[5])\n",
        "  buyukluk = float(arr[7])\n",
        "  yer = arr[14]\n",
        "  tarih = arr[2]\n",
        "  return ( tarih,enlem, boylam , buyukluk ,yer)\n",
        "depremRDD = depremRDD.map(lambda a : splitAndTake(a))\n",
        "depremRDD = depremRDD.sortBy(lambda b : b[3],ascending=False)\n",
        "#Türkiye de 1900 yılından beri olmuş en büyük 10 deprem\n",
        "for d in depremRDD.take(10):\n",
        "  print(d)"
      ],
      "execution_count": 16,
      "outputs": [
        {
          "output_type": "stream",
          "text": [
            "('1939.12.26', 39.8, 39.51, 7.9, 'KURUTILEK- (ERZINCAN) [North East  3.0 km]')\n",
            "('1926.06.26', 36.54, 27.33, 7.7, 'ONIKI ADALAR (AKDENIZ)')\n",
            "('1930.05.06', 37.98, 44.48, 7.6, 'T�RKIYE-IRAN SINIR B�LGESI')\n",
            "('1976.11.24', 39.05, 44.04, 7.5, 'YENIYAKA-CALDIRAN (VAN) [South East  1.9 km]')\n",
            "('1999.08.17', 40.76, 29.97, 7.4, 'BASISKELE (KOCAELI) [North East  2.0 km]')\n",
            "('1912.08.09', 40.6, 27.2, 7.3, 'ERIKLICE-SARKOY (TEKIRDAG) [South East  4.3 km]')\n",
            "('2011.10.23', 38.7212, 43.411, 7.2, 'YEMLICE- (VAN) [North West  1.5 km]')\n",
            "('1999.11.12', 40.74, 31.21, 7.2, 'UGUR- (DUZCE) [North East  0.3 km]')\n",
            "('1953.03.18', 39.99, 27.36, 7.2, 'SOGUCAK-YENICE (�ANAKKALE) [South West  2.3 km]')\n",
            "('1948.02.09', 35.41, 27.2, 7.2, 'AKDENIZ')\n"
          ],
          "name": "stdout"
        }
      ]
    },
    {
      "cell_type": "code",
      "metadata": {
        "colab": {
          "base_uri": "https://localhost:8080/"
        },
        "id": "Uo6VGDj7cAf5",
        "outputId": "c7a05a79-6d04-4beb-801e-59a1197bf57e"
      },
      "source": [
        "#4,5,7,14\n",
        "#Türkiye yi enlem ve boylamlara bakarak 8 (karesel) bölgeye ayırıp en çok deprem olan bölgeleri bulunuz\n",
        "from pyspark import SparkContext\n",
        "sc = SparkContext.getOrCreate()\n",
        "depremRDD = sc.textFile(\"DepremVerileri.txt\")\n",
        "depremRDD = depremRDD.filter(lambda line : \"Deprem Kodu\" not in line)\n",
        "def splitAndTake(line):\n",
        "  arr = line.split(\"\\t\")\n",
        "  enlem = float(arr[4])\n",
        "  boylam = float(arr[5])\n",
        "  buyukluk = float(arr[7])\n",
        "  yer = arr[14]\n",
        "  tarih = arr[2]\n",
        "  return ( enlem, boylam )\n",
        "depremRDD = depremRDD.map(lambda a : splitAndTake(a))\n",
        "def bolgeAta(enlem,boylam):\n",
        "  bolge = \"\"\n",
        "  if (enlem >= 39):\n",
        "    if (boylam <=31):\n",
        "      bolge = \"Bölge 1\"\n",
        "    elif (boylam <= 36):\n",
        "      bolge = \"Bölge 2\"\n",
        "    elif (boylam <= 41):\n",
        "      bolge = \"Bölge 3\"\n",
        "    else:\n",
        "      bolge = \"Bölge 4\"\n",
        "  else:\n",
        "     if (boylam <=31):\n",
        "      bolge = \"Bölge 5\"\n",
        "     elif (boylam <= 36):\n",
        "      bolge = \"Bölge 6\"\n",
        "     elif (boylam <= 41):\n",
        "      bolge = \"Bölge 7\"\n",
        "     else:\n",
        "      bolge = \"Bölge 8\"\n",
        "  return (bolge,1)\n",
        "depremRDD = depremRDD.map(lambda d : bolgeAta(d[0],d[1]))\n",
        "depremRDD = depremRDD.reduceByKey(lambda x,y : x+y)\n",
        "depremRDD = depremRDD.sortBy(lambda a : a[1],ascending=False)\n",
        "depremRDD.take(15)"
      ],
      "execution_count": 25,
      "outputs": [
        {
          "output_type": "execute_result",
          "data": {
            "text/plain": [
              "[('Bölge 5', 8146),\n",
              " ('Bölge 1', 2835),\n",
              " ('Bölge 8', 1561),\n",
              " ('Bölge 7', 1349),\n",
              " ('Bölge 6', 1286),\n",
              " ('Bölge 2', 1000),\n",
              " ('Bölge 3', 996),\n",
              " ('Bölge 4', 759)]"
            ]
          },
          "metadata": {
            "tags": []
          },
          "execution_count": 25
        }
      ]
    },
    {
      "cell_type": "code",
      "metadata": {
        "colab": {
          "base_uri": "https://localhost:8080/"
        },
        "id": "RyH8jCucoQ15",
        "outputId": "9aa09322-bcd8-4d4c-f9dc-ccfbaffb72e7"
      },
      "source": [
        "s = sc.parallelize([1,2,3,4,5,6,7,8])\n",
        "toplam = s.reduce(lambda x,y : x+y)\n",
        "print(toplam)"
      ],
      "execution_count": 26,
      "outputs": [
        {
          "output_type": "stream",
          "text": [
            "36\n"
          ],
          "name": "stdout"
        }
      ]
    },
    {
      "cell_type": "code",
      "metadata": {
        "id": "MjDYMijg0Yq8"
      },
      "source": [
        "rdd1 = sc.parallelize([(\"a\",1),(\"b\",8),(\"c\",2),(\"a\",4),(\"c\",3)])\n",
        "rdd2 = sc.parallelize([(\"a\",4),(\"b\",5),(\"e\",1),(\"f\",4),(\"b\",2)])"
      ],
      "execution_count": 27,
      "outputs": []
    },
    {
      "cell_type": "code",
      "metadata": {
        "colab": {
          "base_uri": "https://localhost:8080/"
        },
        "id": "aUut7VPf1HwG",
        "outputId": "799aedce-7ff7-4621-8faf-023173e58201"
      },
      "source": [
        "rdd3 = rdd1.union(rdd2)\n",
        "print(rdd3.collect())"
      ],
      "execution_count": 29,
      "outputs": [
        {
          "output_type": "stream",
          "text": [
            "[('a', 1), ('b', 8), ('c', 2), ('a', 4), ('c', 3), ('a', 4), ('b', 5), ('e', 1), ('f', 4), ('b', 2)]\n"
          ],
          "name": "stdout"
        }
      ]
    },
    {
      "cell_type": "code",
      "metadata": {
        "colab": {
          "base_uri": "https://localhost:8080/"
        },
        "id": "q1X6Ir5h1P_s",
        "outputId": "be242d78-4731-42e8-cb60-a548e5cac18c"
      },
      "source": [
        "rdd4 = rdd1.join(rdd2)\n",
        "print(rdd4.collect())"
      ],
      "execution_count": 30,
      "outputs": [
        {
          "output_type": "stream",
          "text": [
            "[('b', (8, 5)), ('b', (8, 2)), ('a', (1, 4)), ('a', (4, 4))]\n"
          ],
          "name": "stdout"
        }
      ]
    },
    {
      "cell_type": "code",
      "metadata": {
        "colab": {
          "base_uri": "https://localhost:8080/"
        },
        "id": "0KgOOSSV1xv2",
        "outputId": "7e5897ad-8125-4590-89b7-7a684da539b3"
      },
      "source": [
        "rdd1 = sc.parallelize([(\"a\",1),(\"b\",8),(\"c\",2),(\"a\",4),(\"c\",3)])\n",
        "groupRDD = rdd1.groupByKey().map(lambda x : (x[0],tuple(x[1])))\n",
        "#groupRDD = rdd1.groupByKey()\n",
        "groupRDD.collect()"
      ],
      "execution_count": 36,
      "outputs": [
        {
          "output_type": "execute_result",
          "data": {
            "text/plain": [
              "[('b', (8,)), ('c', (2, 3)), ('a', (1, 4))]"
            ]
          },
          "metadata": {
            "tags": []
          },
          "execution_count": 36
        }
      ]
    },
    {
      "cell_type": "code",
      "metadata": {
        "colab": {
          "base_uri": "https://localhost:8080/"
        },
        "id": "Cm4uGZrx14ts",
        "outputId": "9893d4d7-efda-4644-84ec-cb9a8bf64f68"
      },
      "source": [
        "rdd1 = sc.parallelize([(\"a\",1),(\"b\",8),(\"c\",2),(\"a\",4),(\"c\",3)])\n",
        "rdd2 = sc.parallelize([(\"a\",4),(\"b\",5),(\"e\",1),(\"f\",4),(\"b\",2)])\n",
        "\n",
        "rdd5 = rdd1.cartesian(rdd2)\n",
        "rdd5.collect()\n",
        "#rdd5.sortBy(lambda x: x[0][0]).collect()"
      ],
      "execution_count": 39,
      "outputs": [
        {
          "output_type": "execute_result",
          "data": {
            "text/plain": [
              "[(('a', 1), ('a', 4)),\n",
              " (('a', 1), ('b', 5)),\n",
              " (('b', 8), ('a', 4)),\n",
              " (('b', 8), ('b', 5)),\n",
              " (('a', 1), ('e', 1)),\n",
              " (('a', 1), ('f', 4)),\n",
              " (('b', 8), ('e', 1)),\n",
              " (('b', 8), ('f', 4)),\n",
              " (('a', 1), ('b', 2)),\n",
              " (('b', 8), ('b', 2)),\n",
              " (('c', 2), ('a', 4)),\n",
              " (('c', 2), ('b', 5)),\n",
              " (('a', 4), ('a', 4)),\n",
              " (('a', 4), ('b', 5)),\n",
              " (('c', 3), ('a', 4)),\n",
              " (('c', 3), ('b', 5)),\n",
              " (('c', 2), ('e', 1)),\n",
              " (('c', 2), ('f', 4)),\n",
              " (('a', 4), ('e', 1)),\n",
              " (('a', 4), ('f', 4)),\n",
              " (('c', 2), ('b', 2)),\n",
              " (('a', 4), ('b', 2)),\n",
              " (('c', 3), ('e', 1)),\n",
              " (('c', 3), ('f', 4)),\n",
              " (('c', 3), ('b', 2))]"
            ]
          },
          "metadata": {
            "tags": []
          },
          "execution_count": 39
        }
      ]
    },
    {
      "cell_type": "code",
      "metadata": {
        "colab": {
          "base_uri": "https://localhost:8080/"
        },
        "id": "2RD_GWiZ2UlW",
        "outputId": "96904844-af5a-46b8-ffc7-39e8150b2fe6"
      },
      "source": [
        "rdd = sc.parallelize([ (\"09-06-2021\",123) ,(\"09-07-2021\",133) ,(\"09-08-2021\",142)])\n",
        "rdd = rdd.zipWithIndex()\n",
        "rdd = rdd.map(lambda x : (x[1],x[0]))\n",
        "rdd2 = rdd\n",
        "rdd.collect()\n",
        "rdd2 = rdd2.map(lambda b : (b[0]+1,b[1]))\n",
        "rdd3 = rdd2.join(rdd)\n",
        "rdd3.collect()"
      ],
      "execution_count": 45,
      "outputs": [
        {
          "output_type": "execute_result",
          "data": {
            "text/plain": [
              "[(1, (('09-06-2021', 123), ('09-07-2021', 133))),\n",
              " (2, (('09-07-2021', 133), ('09-08-2021', 142)))]"
            ]
          },
          "metadata": {
            "tags": []
          },
          "execution_count": 45
        }
      ]
    },
    {
      "cell_type": "code",
      "metadata": {
        "id": "uqYsR1Vp8kUy"
      },
      "source": [
        "#https://stackoverflow.com/questions/19412462/getting-distance-between-two-points-based-on-latitude-longitude"
      ],
      "execution_count": 46,
      "outputs": []
    },
    {
      "cell_type": "code",
      "metadata": {
        "id": "4BgyFgxS4kGh"
      },
      "source": [
        "#Dolar artışlarını yüzdesel olarak hesaplamak için\n",
        "#1 -> 2 --> 2-1 /1\n",
        "#100 -> 120 --> 120-100/100"
      ],
      "execution_count": null,
      "outputs": []
    }
  ]
}