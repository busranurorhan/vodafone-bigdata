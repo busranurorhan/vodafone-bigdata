{
 "cells": [
  {
   "cell_type": "code",
   "execution_count": 6,
   "metadata": {},
   "outputs": [
    {
     "name": "stdout",
     "output_type": "stream",
     "text": [
      "What a nice weather {'neg': 0.0, 'neu': 0.417, 'pos': 0.583, 'compound': 0.4215}\n",
      "worst movie ever seen {'neg': 0.577, 'neu': 0.423, 'pos': 0.0, 'compound': -0.6249}\n",
      "bad movie {'neg': 0.778, 'neu': 0.222, 'pos': 0.0, 'compound': -0.5423}\n",
      "not a bad movie {'neg': 0.0, 'neu': 0.412, 'pos': 0.588, 'compound': 0.431}\n"
     ]
    }
   ],
   "source": [
    "#import nltk\n",
    "#nltk.download('vader_lexicon')\n",
    "\n",
    "from nltk.sentiment.vader import SentimentIntensityAnalyzer\n",
    "cumle1 = \"What a nice weather\"\n",
    "cumle2 = \"worst movie ever seen\"\n",
    "cumle3 = \"bad movie\"\n",
    "cumle4 = \"not a bad movie\"\n",
    "\n",
    "sIntensityAnalyzer = SentimentIntensityAnalyzer()\n",
    "print(cumle1, sIntensityAnalyzer.polarity_scores(cumle1) )\n",
    "print(cumle2, sIntensityAnalyzer.polarity_scores(cumle2) )\n",
    "print(cumle3, sIntensityAnalyzer.polarity_scores(cumle3) )\n",
    "print(cumle4, sIntensityAnalyzer.polarity_scores(cumle4) )"
   ]
  },
  {
   "cell_type": "code",
   "execution_count": 10,
   "metadata": {},
   "outputs": [
    {
     "name": "stdout",
     "output_type": "stream",
     "text": [
      "kötü film değildi {'neg': 0.0, 'neu': 1.0, 'pos': 0.0, 'compound': 0.0}\n"
     ]
    }
   ],
   "source": [
    "trCumle = \"kötü film değildi\"\n",
    "print(trCumle, sIntensityAnalyzer.polarity_scores(trCumle) )"
   ]
  },
  {
   "cell_type": "code",
   "execution_count": null,
   "metadata": {},
   "outputs": [],
   "source": []
  }
 ],
 "metadata": {
  "kernelspec": {
   "display_name": "Python 3",
   "language": "python",
   "name": "python3"
  },
  "language_info": {
   "codemirror_mode": {
    "name": "ipython",
    "version": 3
   },
   "file_extension": ".py",
   "mimetype": "text/x-python",
   "name": "python",
   "nbconvert_exporter": "python",
   "pygments_lexer": "ipython3",
   "version": "3.8.3"
  }
 },
 "nbformat": 4,
 "nbformat_minor": 4
}
