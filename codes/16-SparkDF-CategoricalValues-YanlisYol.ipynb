{
 "cells": [
  {
   "cell_type": "code",
   "execution_count": 13,
   "metadata": {},
   "outputs": [
    {
     "name": "stdout",
     "output_type": "stream",
     "text": [
      "+--------+---+------+------+------+\n",
      "|   Sehir|Oda|salon | fiyat|sehirX|\n",
      "+--------+---+------+------+------+\n",
      "|   izmir|  3|     1|500000|     5|\n",
      "|istanbul|  3|     1|800000|     8|\n",
      "|  ankara|  3|     1|600000|     6|\n",
      "|   izmir|  2|     1|300000|     5|\n",
      "|istanbul|  2|     1|450000|     8|\n",
      "|istanbul|  1|     1|250000|     8|\n",
      "|  ankara|  2|     1|380000|     6|\n",
      "|   izmir|  1|     1|220000|     5|\n",
      "|istanbul|  1|     1|245000|     8|\n",
      "+--------+---+------+------+------+\n",
      "\n"
     ]
    }
   ],
   "source": [
    "from pyspark.sql import SparkSession\n",
    "from pyspark.sql.functions import UserDefinedFunction\n",
    "from pyspark.sql.types import IntegerType\n",
    "\n",
    "spark = SparkSession.Builder().appName('Spark DataFrame Introduction').getOrCreate()\n",
    "pointsDF = spark.read.option('inferSchema','true')\\\n",
    "                        .option('header','true')\\\n",
    "                        .option('delimiter',';').csv('datasets/evler.csv')\n",
    "\n",
    "def lengthFunction(text):\n",
    "    return len(text)\n",
    "\n",
    "lUDF = UserDefinedFunction(lengthFunction,IntegerType())\n",
    "pointsDF = pointsDF.withColumn('sehirX', lUDF('Sehir') )\n",
    "\n",
    "pointsDF.show()"
   ]
  },
  {
   "cell_type": "code",
   "execution_count": null,
   "metadata": {},
   "outputs": [],
   "source": []
  }
 ],
 "metadata": {
  "kernelspec": {
   "display_name": "Python 3",
   "language": "python",
   "name": "python3"
  },
  "language_info": {
   "codemirror_mode": {
    "name": "ipython",
    "version": 3
   },
   "file_extension": ".py",
   "mimetype": "text/x-python",
   "name": "python",
   "nbconvert_exporter": "python",
   "pygments_lexer": "ipython3",
   "version": "3.8.3"
  }
 },
 "nbformat": 4,
 "nbformat_minor": 4
}
