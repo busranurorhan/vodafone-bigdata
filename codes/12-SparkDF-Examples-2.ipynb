{
 "cells": [
  {
   "cell_type": "code",
   "execution_count": 1,
   "metadata": {},
   "outputs": [
    {
     "name": "stdout",
     "output_type": "stream",
     "text": [
      "+-------+-----+\n",
      "|  Bolge|count|\n",
      "+-------+-----+\n",
      "|Bölge 5| 7946|\n",
      "|Bölge 1| 2827|\n",
      "|Bölge 8| 1547|\n",
      "|Bölge 7| 1335|\n",
      "|Bölge 6| 1277|\n",
      "|Bölge 2|  994|\n",
      "|Bölge 3|  982|\n",
      "|Bölge 4|  752|\n",
      "+-------+-----+\n",
      "\n"
     ]
    }
   ],
   "source": [
    "from pyspark.sql import SparkSession\n",
    "from pyspark.sql.functions import UserDefinedFunction\n",
    "from pyspark.sql.types import StringType\n",
    "spark = SparkSession.Builder().appName('Spark DataFrame Introduction').getOrCreate()\n",
    "depremDF = spark.read.option('inferSchema','true')\\\n",
    "                        .option('header','true')\\\n",
    "                        .option('delimiter','\\t').csv('datasets/EarthquakeDataset.txt')\n",
    "depremDF = depremDF.select(\"Latitude\",\"Longitude\",\"xM\",\"Location\")\n",
    "def bolgeAta(enlem,boylam):\n",
    "    bolge = \"\"\n",
    "    if (enlem >= 39):\n",
    "        if (boylam <=31):\n",
    "            bolge = \"Bölge 1\"\n",
    "        elif (boylam <= 36):\n",
    "            bolge = \"Bölge 2\"\n",
    "        elif (boylam <= 41):\n",
    "            bolge = \"Bölge 3\"\n",
    "        else:\n",
    "            bolge = \"Bölge 4\"\n",
    "    else:\n",
    "        if (boylam <=31):\n",
    "            bolge = \"Bölge 5\"\n",
    "        elif (boylam <= 36):\n",
    "            bolge = \"Bölge 6\"\n",
    "        elif (boylam <= 41):\n",
    "            bolge = \"Bölge 7\"\n",
    "        else:\n",
    "            bolge = \"Bölge 8\"\n",
    "    return bolge\n",
    "bolgeAtaUDF = UserDefinedFunction(bolgeAta,StringType())\n",
    "depremDF = depremDF.withColumn('Bolge',bolgeAtaUDF('Latitude','Longitude'))\n",
    "depremDF = depremDF.groupBy('Bolge').count()\n",
    "depremDF = depremDF.sort('count',ascending=False)\n",
    "depremDF.show()"
   ]
  },
  {
   "cell_type": "code",
   "execution_count": null,
   "metadata": {},
   "outputs": [],
   "source": []
  }
 ],
 "metadata": {
  "kernelspec": {
   "display_name": "Python 3",
   "language": "python",
   "name": "python3"
  },
  "language_info": {
   "codemirror_mode": {
    "name": "ipython",
    "version": 3
   },
   "file_extension": ".py",
   "mimetype": "text/x-python",
   "name": "python",
   "nbconvert_exporter": "python",
   "pygments_lexer": "ipython3",
   "version": "3.8.3"
  }
 },
 "nbformat": 4,
 "nbformat_minor": 4
}
